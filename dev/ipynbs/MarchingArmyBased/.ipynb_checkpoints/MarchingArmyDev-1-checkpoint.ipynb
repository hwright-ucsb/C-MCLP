{
 "cells": [
  {
   "cell_type": "markdown",
   "metadata": {},
   "source": [
    "##### Possible Parameters:\n",
    "- starting line * \n",
    "    - intelligent way to pick this slope?\n",
    "\n",
    "- number of iterations *\n",
    "\n",
    "- starting PT on the starting line (& thus subsequent lines)\n",
    "    - intelligent way to pick the starting pt?"
   ]
  },
  {
   "cell_type": "code",
   "execution_count": 219,
   "metadata": {},
   "outputs": [],
   "source": [
    "import shapely\n",
    "from shapely import geometry\n",
    "import math\n",
    "shapely.__file__\n",
    "import fiona # need to install from src in order for buffering to work. see: https://github.com/geoplex/elasticsearch-spatial/issues/1\n",
    "import numpy\n",
    "from matplotlib import pyplot\n",
    "import sys\n",
    "sys.path.append('../../alg')\n",
    "import distance_buffer as db\n"
   ]
  },
  {
   "cell_type": "code",
   "execution_count": 220,
   "metadata": {},
   "outputs": [
    {
     "data": {
      "text/plain": [
       "<module 'distance_buffer' from '../../../alg/distance_buffer.pyc'>"
      ]
     },
     "execution_count": 220,
     "metadata": {},
     "output_type": "execute_result"
    }
   ],
   "source": [
    "reload(db)"
   ]
  },
  {
   "cell_type": "code",
   "execution_count": 221,
   "metadata": {},
   "outputs": [],
   "source": [
    "import numpy as np"
   ]
  },
  {
   "cell_type": "code",
   "execution_count": 68,
   "metadata": {},
   "outputs": [],
   "source": [
    "def gen_rand_pt(lo, hi):\n",
    "    return ((lo - hi) * np.random.random() + hi)"
   ]
  },
  {
   "cell_type": "code",
   "execution_count": 351,
   "metadata": {},
   "outputs": [],
   "source": [
    "# Note : this method will just pick the first rand pt found in the region\n",
    "def gen_rand_pt_on_line(pt1, pt2, vec, region):\n",
    "    pt = []\n",
    "    mag = db.eucdist(pt1[0], pt1[1], pt2[0], pt2[1])\n",
    "    randdist = gen_rand_pt(0, mag[0])\n",
    "    randptp = pt1 + randdist*vec\n",
    "    randptn = pt1 - randdist*vec\n",
    "    randptp2 = pt2 + randdist*vec\n",
    "    randptn2 = pt2 - randdist*vec\n",
    "\n",
    "    if region.contains(geometry.Point(randptp)):\n",
    "        pt = randptp\n",
    "    elif region.contains(geometry.Point(randptn)):\n",
    "        pt = randptn\n",
    "    elif region.contains(geometry.Point(randptp2)):\n",
    "        pt = randptp2\n",
    "    elif region.contains(geometry.Point(randptn2)):\n",
    "        pt = randptn2\n",
    "    else:\n",
    "        print \"contains none....\"\n",
    "    #randptn = pt1 - randdist*vec\n",
    "    #if \n",
    "    return pt"
   ]
  },
  {
   "cell_type": "code",
   "execution_count": 357,
   "metadata": {},
   "outputs": [],
   "source": [
    "def gen_starting_line(bounds):\n",
    "    # randomly pick 2 pts in area then get unit vector of that line\n",
    "    pt1 = (gen_rand_pt(bounds[0],bounds[2]),gen_rand_pt(bounds[1],bounds[3]))\n",
    "    pt2 = (gen_rand_pt(bounds[0],bounds[2]),gen_rand_pt(bounds[1],bounds[3]))\n",
    "    # this switch doesnt really make a difference\n",
    "    temp = pt2\n",
    "    pt2 = np.array(pt1)\n",
    "    pt1 = np.array(temp)\n",
    "    v = pt2 - pt1\n",
    "    line = v/np.linalg.norm(v)\n",
    "    # TODO : vvv change this to a while loop\n",
    "    #line = []\n",
    "    #if not ((pt1[0]==pt2[0]) and (pt1[1]==pt2[1])):\n",
    "    #    v = pt2 - pt1\n",
    "    #    line = v / np.linalg.norm(v)\n",
    "    #else:\n",
    "    #    line = gen_starting_line(bounds)\n",
    "    return line, pt1,pt2\n",
    "    "
   ]
  },
  {
   "cell_type": "code",
   "execution_count": 484,
   "metadata": {},
   "outputs": [],
   "source": [
    "def gen_cand_pts_on_line(poly, linevec, startpt, r):\n",
    "    #main algorithm, start from the randomly generated intersecting line & then \n",
    "    # keeps track of running missed pts; stop once we get to a thresh\n",
    "    \n",
    "    eps = 0.01 # epsilon for tolerance of intersection of region and coverage area(r)\n",
    "    nummissedpts = 0\n",
    "    pt = startpt\n",
    "    candpts = []\n",
    "    area = (region.intersection(geometry.Point(startpt).buffer(r))).area\n",
    "    if area > eps:\n",
    "        candpts.append(startpt)\n",
    "    optdist = math.sqrt(3)*r\n",
    "    \n",
    "    #positive direction loop\n",
    "    while nummissedpts < 100:\n",
    "        temppt = pt + optdist*linevec\n",
    "        pt = temppt\n",
    "        area = (region.intersection(geometry.Point(pt).buffer(r))).area\n",
    "        #if poly.contains(geometry.Point(temppt)):\n",
    "        if area > eps:\n",
    "            candpts.append(temppt)\n",
    "            nummissedpts = 0\n",
    "        else:\n",
    "            nummissedpts+=1\n",
    "            \n",
    "            \n",
    "    nummissedpts = 0\n",
    "    pt = startpt\n",
    "    while nummissedpts < 100:\n",
    "        temppt = pt - optdist*linevec\n",
    "        pt = temppt\n",
    "        area = (region.intersection(geometry.Point(pt).buffer(r))).area\n",
    "        #if poly.contains(geometry.Point(temppt)):\n",
    "        if area > eps:\n",
    "            candpts.append(temppt)\n",
    "            nummissedpts = 0\n",
    "        else:\n",
    "            nummissedpts+=1\n",
    "\n",
    "   \n",
    "    return candpts\n",
    "    "
   ]
  },
  {
   "cell_type": "code",
   "execution_count": 476,
   "metadata": {},
   "outputs": [],
   "source": [
    "def gen_cand_pts(poly, startvec, startpt, r):\n",
    "    nummissedlines = 0\n",
    "    candpts = []\n",
    "    nextstpt = startpt\n",
    "    \n",
    "    #positive direction loop\n",
    "    while nummissedlines < 100:\n",
    "        temppts = gen_cand_pts_on_line(poly, startvec, nextstpt, r)\n",
    "        if len(temppts) > 1:\n",
    "            candpts.append(temppts)\n",
    "            nextstpt = gen_next_line_startpt(nextstpt, startvec, r)\n",
    "            nummissedlines=0\n",
    "        else:\n",
    "            nummissedlines+=1\n",
    "            \n",
    "    nummissedlines=0\n",
    "    nextstpt = gen_next_line_startpt(startpt, startvec, -1*r)\n",
    "    #nextstpt=startpt\n",
    "    while nummissedlines < 100:\n",
    "        temppts = gen_cand_pts_on_line(poly, startvec, nextstpt, r)\n",
    "        if len(temppts) > 1:\n",
    "            candpts.append(temppts)\n",
    "            nextstpt = gen_next_line_startpt(nextstpt, startvec, -1*r)\n",
    "            nummissedlines=0\n",
    "        else:\n",
    "            nummissedlines+=1     \n",
    "    return candpts\n",
    "            "
   ]
  },
  {
   "cell_type": "code",
   "execution_count": 398,
   "metadata": {},
   "outputs": [],
   "source": [
    "def gen_next_line_startpt(startpt, linevec, r):\n",
    "    perpvec = [-linevec[1], linevec[0]]\n",
    "    perpdist = (1.5)*r\n",
    "    pardist = (math.sqrt(3)/2.0)*r\n",
    "    temppt = startpt + perpdist*np.array(perpvec)\n",
    "    newstartpt = temppt + pardist*linevec\n",
    "    return newstartpt"
   ]
  },
  {
   "cell_type": "code",
   "execution_count": 339,
   "metadata": {},
   "outputs": [],
   "source": [
    "# line[0] is starting pt, line[1] endpt; poly is a ring\n",
    "def intersect_line_region(pt1,linevec, poly):\n",
    "    \n",
    "    intpt = []\n",
    "    i = 1\n",
    "    while len(intpt) < 2:\n",
    "    #    # the line is a unit vector, get it long enough to make sure it intersects before we return the pt\n",
    "        temp1 = pt1+ (100000.0*i)*linevec\n",
    "        temp2 = pt1 - (100000.0*i)*linevec\n",
    "        newline = geometry.LineString([temp1,temp2])\n",
    "        intpt = newline.intersection(poly)\n",
    "        i+=1\n",
    "    \n",
    "    return geometry.LineString(intpt)"
   ]
  },
  {
   "cell_type": "code",
   "execution_count": 30,
   "metadata": {},
   "outputs": [],
   "source": [
    "def analyze_coverage(origpoly, candpts, r):\n",
    "    \n",
    "    \n",
    "    return results\n",
    "    "
   ]
  },
  {
   "cell_type": "code",
   "execution_count": 31,
   "metadata": {},
   "outputs": [],
   "source": [
    "# Polygon to be covered, num of iterations to run algorithm, r = coverage radius\n",
    "def marching_army(poly, numiter, r): #should there be some kind of variance parameter?\n",
    "    \n",
    "    # candptset[x] contains the candpts found for that in iter x; likewise for results[x]\n",
    "    candptsets = []\n",
    "    results = []\n",
    "    \n",
    "    for i in range(0, numiter):\n",
    "        bds = poly.bounds\n",
    "        line = gen_starting_line(bds)\n",
    "        candptsets.append(gen_cand_pts(poly, startline, r))\n",
    "        results.append(analyze_coverage(poly, candptsets[i], r))\n",
    "    \n",
    "    return candptsets, results"
   ]
  },
  {
   "cell_type": "markdown",
   "metadata": {},
   "source": [
    "### Read in the shapefile and get the polygon that we're going to work with"
   ]
  },
  {
   "cell_type": "code",
   "execution_count": 35,
   "metadata": {},
   "outputs": [
    {
     "name": "stdout",
     "output_type": "stream",
     "text": [
      "183\n",
      "0\n",
      "4918771.66688\n",
      "(-631535.6236662696, 1321572.2678891697, -630132.1088717761, 1327921.5599169973)\n"
     ]
    }
   ],
   "source": [
    "shp = fiona.open(\"../../../data/YukonAlaska/YukonRegionCRS.shp\")\n",
    "l = iter(shp) # get the list of geoms from the shapefile \n",
    "first = next(l)\n",
    "shp_geom = shapely.geometry.shape(first['geometry'])\n",
    "\n",
    "# This is a sufficiently irregular shape so we will go with this one\n",
    "region = shp_geom\n",
    "print len(region.exterior.coords)\n",
    "print len(region.interiors)\n",
    "print region.area\n",
    "region\n",
    "print region.bounds"
   ]
  },
  {
   "cell_type": "markdown",
   "metadata": {},
   "source": [
    "### Run marching army algorithm on the polygon"
   ]
  },
  {
   "cell_type": "code",
   "execution_count": 34,
   "metadata": {},
   "outputs": [
    {
     "name": "stdout",
     "output_type": "stream",
     "text": [
      "4\n"
     ]
    },
    {
     "ename": "TypeError",
     "evalue": "'NoneType' object is not iterable",
     "output_type": "error",
     "traceback": [
      "\u001b[0;31m---------------------------------------------------------------------------\u001b[0m",
      "\u001b[0;31mTypeError\u001b[0m                                 Traceback (most recent call last)",
      "\u001b[0;32m<ipython-input-34-dbc0f3fa3366>\u001b[0m in \u001b[0;36m<module>\u001b[0;34m()\u001b[0m\n\u001b[0;32m----> 1\u001b[0;31m \u001b[0mcandptsets\u001b[0m\u001b[0;34m,\u001b[0m \u001b[0mcoverresults\u001b[0m \u001b[0;34m=\u001b[0m \u001b[0mmarching_army\u001b[0m\u001b[0;34m(\u001b[0m\u001b[0mregion\u001b[0m\u001b[0;34m,\u001b[0m \u001b[0;36m1000\u001b[0m\u001b[0;34m)\u001b[0m\u001b[0;34m\u001b[0m\u001b[0m\n\u001b[0m",
      "\u001b[0;31mTypeError\u001b[0m: 'NoneType' object is not iterable"
     ]
    }
   ],
   "source": [
    "candptsets, coverresults = marching_army(region, 1000)"
   ]
  },
  {
   "cell_type": "code",
   "execution_count": 45,
   "metadata": {},
   "outputs": [],
   "source": []
  },
  {
   "cell_type": "markdown",
   "metadata": {},
   "source": [
    "### START here"
   ]
  },
  {
   "cell_type": "code",
   "execution_count": 501,
   "metadata": {},
   "outputs": [
    {
     "name": "stdout",
     "output_type": "stream",
     "text": [
      "[ 0.30219752  0.95324533]\n",
      "[ -631410.28105073  1323842.30068761] [ -630634.69991379  1326288.7770319 ]\n"
     ]
    }
   ],
   "source": [
    "bounds = region.bounds\n",
    "start_line, pt1,pt2 = gen_starting_line(bounds)\n",
    "print start_line\n",
    "print pt1,pt2\n"
   ]
  },
  {
   "cell_type": "code",
   "execution_count": 502,
   "metadata": {},
   "outputs": [
    {
     "name": "stdout",
     "output_type": "stream",
     "text": [
      "LINESTRING (-631459.7080867473 1323686.389115456, -630553.2963968728 1326545.55452299)\n"
     ]
    }
   ],
   "source": [
    "intpt = intersect_line_region(pt1, start_line, region.exterior)\n",
    "print intpt"
   ]
  },
  {
   "cell_type": "code",
   "execution_count": 503,
   "metadata": {},
   "outputs": [
    {
     "name": "stdout",
     "output_type": "stream",
     "text": [
      "[ -631064.35089877  1324933.49526834]\n"
     ]
    }
   ],
   "source": [
    "randpts = gen_rand_pt_on_line(pt1, pt2, start_line, region)\n",
    "print randpts"
   ]
  },
  {
   "cell_type": "code",
   "execution_count": 504,
   "metadata": {},
   "outputs": [
    {
     "name": "stdout",
     "output_type": "stream",
     "text": [
      "[ 0.30219752  0.95324533]\n"
     ]
    }
   ],
   "source": [
    "print start_line"
   ]
  },
  {
   "cell_type": "code",
   "execution_count": 505,
   "metadata": {},
   "outputs": [],
   "source": [
    "candpts1 = gen_cand_pts_on_line(region, start_line,randpts, 100.0)\n"
   ]
  },
  {
   "cell_type": "code",
   "execution_count": 506,
   "metadata": {},
   "outputs": [],
   "source": [
    "nextstpt = gen_next_line_startpt(randpts, start_line, 100.0)"
   ]
  },
  {
   "cell_type": "code",
   "execution_count": 507,
   "metadata": {},
   "outputs": [],
   "source": [
    "candpts2 = gen_cand_pts_on_line(region, start_line, nextstpt, 100.0)"
   ]
  },
  {
   "cell_type": "code",
   "execution_count": 508,
   "metadata": {},
   "outputs": [
    {
     "name": "stdout",
     "output_type": "stream",
     "text": [
      "CPU times: user 9.14 s, sys: 34.8 ms, total: 9.17 s\n",
      "Wall time: 9.19 s\n"
     ]
    }
   ],
   "source": [
    "%%time\n",
    "candptsalltry1 = gen_cand_pts(region, start_line, randpts, 100.0)\n"
   ]
  },
  {
   "cell_type": "code",
   "execution_count": 509,
   "metadata": {},
   "outputs": [
    {
     "name": "stdout",
     "output_type": "stream",
     "text": [
      "15\n"
     ]
    }
   ],
   "source": [
    "print len(candptsalltry1)"
   ]
  },
  {
   "cell_type": "code",
   "execution_count": 510,
   "metadata": {},
   "outputs": [
    {
     "data": {
      "image/png": "[encoded data removed]",
      "text/plain": [
       "<matplotlib.figure.Figure at 0x10e1eda10>"
      ]
     },
     "metadata": {},
     "output_type": "display_data"
    }
   ],
   "source": [
    "ax, fig = db.plot_fig(region)\n",
    "#db.plot_line(ax, intpt.coords,ls='-',color='red',zorder=2)\n",
    "#temp = zip(*randpts)\n",
    "ax.plot(pt1[0], pt1[1], 'x', color=\"black\")\n",
    "ax.plot(pt2[0], pt2[1], '*', color=\"black\")\n",
    "ax.plot(nextstpt[0], nextstpt[1], 'x', color='red')\n",
    "#db.plot_radii(ax, zip(*candpts1),100.0)\n",
    "tcandpts1 = zip(*candpts1)\n",
    "tcandpts2 = zip(*candpts2)\n",
    "#ax.plot(tcandpts1[0], tcandpts1[1], 'o',ms=0.2, color='pink')\n",
    "#db.plot_radii(ax, candpts1, 100.0, alpha=0.5)\n",
    "#db.plot_radii(ax, candpts2, 100.0, alpha=0.5)\n",
    "#ax.plot(negpt[0], negpt[1], 'o', color='purple')\n",
    "for i in range(0, len(candptsalltry1)):\n",
    "    db.plot_radii(ax, candptsalltry1[i], 100.0, alpha=0.5)\n",
    "ax.plot(candptsalltry1[9][0][0], candptsalltry1[9][0][1], 'o', color='green', alpha=0.5)\n",
    "ax.plot(candptsalltry1[0][0][0], candptsalltry1[0][0][1], 'o', color='purple', alpha=0.5)\n",
    "\n",
    "pyplot.show()"
   ]
  },
  {
   "cell_type": "code",
   "execution_count": 515,
   "metadata": {},
   "outputs": [
    {
     "data": {
      "image/svg+xml": [
       "<svg xmlns=\"http://www.w3.org/2000/svg\" xmlns:xlink=\"http://www.w3.org/1999/xlink\" width=\"100.0\" height=\"104.007238748\" viewBox=\"-631330.911963 1326783.17086 35.9138550858 104.007238748\" preserveAspectRatio=\"xMinYMin meet\"><g transform=\"matrix(1,0,0,-1,0,2653670.34895)\"><path fill-rule=\"evenodd\" fill=\"#66cc99\" stroke=\"#555555\" stroke-width=\"2.0\" opacity=\"0.6\" d=\"M -631327.059843,1326787.02298 L -631302.593882,1326883.32597 L -631300.7717,1326876.05141 L -631299.331755,1326866.3441 L -631298.850228,1326856.54238 L -631299.331755,1326846.74067 L -631300.7717,1326837.03335 L -631303.156194,1326827.51391 L -631306.462274,1326818.27404 L -631310.658101,1326809.40271 L -631315.703266,1326800.98536 L -631321.549182,1326793.10305 L -631327.059843,1326787.02298 z\" /></g></svg>"
      ],
      "text/plain": [
       "<shapely.geometry.polygon.Polygon at 0x10b76d8d0>"
      ]
     },
     "execution_count": 515,
     "metadata": {},
     "output_type": "execute_result"
    }
   ],
   "source": [
    "(region.intersection(geometry.Point(candptsalltry1[6][1]).buffer(100.0)))"
   ]
  },
  {
   "cell_type": "code",
   "execution_count": 466,
   "metadata": {},
   "outputs": [
    {
     "name": "stdout",
     "output_type": "stream",
     "text": [
      "[ -630912.50646191  1325438.44292009]\n",
      "[ -631058.95734959  1325530.92068769]\n",
      "[ -631205.40823726  1325623.39845529]\n",
      "[ -631351.85912493  1325715.87622289]\n",
      "[ -631498.3100126   1325808.35399049]\n",
      "[ -630912.50646191  1325438.44292009]\n",
      "[ -630766.05557424  1325345.96515249]\n",
      "[ -630619.60468657  1325253.4873849 ]\n",
      "[ -630473.1537989  1325161.0096173]\n",
      "[ -630326.70291122  1325068.5318497 ]\n",
      "[ -630180.25202355  1324976.0540821 ]\n"
     ]
    }
   ],
   "source": [
    "for i in range(0, len(candptsalltry1)):\n",
    "    print candptsalltry1[i][0]"
   ]
  },
  {
   "cell_type": "code",
   "execution_count": 475,
   "metadata": {},
   "outputs": [
    {
     "data": {
      "text/plain": [
       "[0.0, 0.0, 0.0]"
      ]
     },
     "execution_count": 475,
     "metadata": {},
     "output_type": "execute_result"
    }
   ],
   "source": [
    "db.eucdist(candptsalltry1[5][0][0], candptsalltry1[5][0][1], candptsalltry1[0][0][0], candptsalltry1[0][0][1])"
   ]
  },
  {
   "cell_type": "code",
   "execution_count": 416,
   "metadata": {},
   "outputs": [
    {
     "data": {
      "image/svg+xml": [
       "<svg xmlns=\"http://www.w3.org/2000/svg\" xmlns:xlink=\"http://www.w3.org/1999/xlink\" width=\"100.0\" height=\"100.0\" viewBox=\"-631015.682084 1325439.1222 59.9003559392 91.1192043265\" preserveAspectRatio=\"xMinYMin meet\"><g transform=\"matrix(1,0,0,-1,0,2650969.36361)\"><path fill-rule=\"evenodd\" fill=\"#66cc99\" stroke=\"#555555\" stroke-width=\"1.82238408653\" opacity=\"0.6\" d=\"M -631012.307298,1325442.49699 L -631012.024935,1325448.24463 L -631010.58499,1325457.95195 L -631008.200495,1325467.47139 L -631004.894415,1325476.71126 L -631000.698588,1325485.58259 L -630995.653423,1325493.99994 L -630989.807507,1325501.88225 L -630983.21714,1325509.1536 L -630975.94579,1325515.74397 L -630968.063485,1325521.58988 L -630959.646136,1325526.63505 L -630959.156513,1325526.86662 L -630959.438877,1325521.11897 L -630960.878822,1325511.41166 L -630963.263316,1325501.89222 L -630966.569396,1325492.65234 L -630970.765223,1325483.78101 L -630975.810388,1325475.36366 L -630981.656304,1325467.48136 L -630988.246671,1325460.21001 L -630995.518021,1325453.61964 L -631003.400326,1325447.77373 L -631011.817676,1325442.72856 L -631012.307298,1325442.49699 z\" /></g></svg>"
      ],
      "text/plain": [
       "<shapely.geometry.polygon.Polygon at 0x10b6db8d0>"
      ]
     },
     "execution_count": 416,
     "metadata": {},
     "output_type": "execute_result"
    }
   ],
   "source": [
    "(geometry.Point(candpts1[0]).buffer(100.0)).intersection(geometry.Point(candpts2[0]).buffer(100.0))"
   ]
  },
  {
   "cell_type": "code",
   "execution_count": 66,
   "metadata": {},
   "outputs": [
    {
     "name": "stdout",
     "output_type": "stream",
     "text": [
      "[1 2]\n"
     ]
    }
   ],
   "source": [
    "p =np.array([1,2])\n",
    "print p"
   ]
  },
  {
   "cell_type": "code",
   "execution_count": 224,
   "metadata": {},
   "outputs": [
    {
     "name": "stdout",
     "output_type": "stream",
     "text": [
      "[ 0.26967216 -0.96295219]\n",
      "(-631535.6236662696, 1321572.2678891697, -630132.1088717761, 1327921.5599169973)\n",
      "[ -630988.49830285  1326571.68047753] [ -630542.89201829  1324980.4982268 ]\n"
     ]
    }
   ],
   "source": [
    "bounds = region.bounds\n",
    "pt1 = np.array([gen_rand_pt(bounds[0],bounds[2]), gen_rand_pt(bounds[1],bounds[3])])\n",
    "pt2 = np.array([gen_rand_pt(bounds[0], bounds[2]), gen_rand_pt(bounds[1], bounds[3])])\n",
    "line = []\n",
    "if not ((pt1[0]==pt2[0]) and (pt1[1]==pt[1])):\n",
    "    v = pt2 - pt1\n",
    "    line = v / np.linalg.norm(v)\n",
    "\n",
    "    print line\n",
    "print bounds\n",
    "print pt1, pt2"
   ]
  },
  {
   "cell_type": "code",
   "execution_count": 134,
   "metadata": {},
   "outputs": [],
   "source": [
    "vecpt1 = line*1000000.0\n",
    "vecpt2 = line*-1000000.0\n",
    "\n",
    "vecline = geometry.LineString([vecpt1, vecpt2])\n",
    "intpt2 = vecline.intersection(region.exterior)"
   ]
  },
  {
   "cell_type": "code",
   "execution_count": 135,
   "metadata": {},
   "outputs": [
    {
     "name": "stdout",
     "output_type": "stream",
     "text": [
      "LINESTRING (342248.505310455 -939609.4723941215, -342248.505310455 939609.4723941215)\n",
      "GEOMETRYCOLLECTION EMPTY\n"
     ]
    }
   ],
   "source": [
    "print vecline\n",
    "print intpt2"
   ]
  },
  {
   "cell_type": "code",
   "execution_count": 136,
   "metadata": {},
   "outputs": [
    {
     "name": "stdout",
     "output_type": "stream",
     "text": [
      "GEOMETRYCOLLECTION EMPTY\n"
     ]
    }
   ],
   "source": [
    "linepts = geometry.LineString([pt1,pt2])\n",
    "intpt = linepts.intersection(region.exterior)\n",
    "print intpt"
   ]
  },
  {
   "cell_type": "code",
   "execution_count": 137,
   "metadata": {},
   "outputs": [
    {
     "name": "stdout",
     "output_type": "stream",
     "text": [
      "LINESTRING (-631290.9326336206 1324783.839110376, -630727.1346371475 1323235.987389234)\n",
      "GEOMETRYCOLLECTION EMPTY\n"
     ]
    }
   ],
   "source": [
    "print linepts\n",
    "print intpt\n"
   ]
  },
  {
   "cell_type": "code",
   "execution_count": 141,
   "metadata": {},
   "outputs": [
    {
     "name": "stdout",
     "output_type": "stream",
     "text": [
      "LINESTRING (-597066.0821025751 1230822.891870964, -665515.783164666 1418744.786349788)\n",
      "MULTIPOINT (-631528.5002035924 1325436.05741262, -630674.6334533931 1323091.850574019)\n"
     ]
    }
   ],
   "source": [
    "temp1 = pt1+ 100000.0*line\n",
    "temp2 = pt1 - 100000.0*line\n",
    "try3 = geometry.LineString([temp1,temp2])\n",
    "intpt3 = try3.intersection(region.exterior)\n",
    "print try3\n",
    "print intpt3"
   ]
  },
  {
   "cell_type": "code",
   "execution_count": 214,
   "metadata": {},
   "outputs": [
    {
     "name": "stdout",
     "output_type": "stream",
     "text": [
      "[<shapely.geometry.point.Point object at 0x10da68050>, <shapely.geometry.point.Point object at 0x10d1ac110>]\n"
     ]
    }
   ],
   "source": [
    "# convert from multipoint to a linestring for plotting\n",
    "print list(intpt3.geoms)\n",
    "linetry3 = geometry.LineString(intpt3)"
   ]
  },
  {
   "cell_type": "code",
   "execution_count": 163,
   "metadata": {},
   "outputs": [
    {
     "name": "stdout",
     "output_type": "stream",
     "text": [
      "LINESTRING (-631528.5002035924 1325436.05741262, -630674.6334533931 1323091.850574019)\n"
     ]
    }
   ],
   "source": [
    "print linetry3"
   ]
  },
  {
   "cell_type": "markdown",
   "metadata": {},
   "source": [
    "## Plot the figure"
   ]
  },
  {
   "cell_type": "code",
   "execution_count": 210,
   "metadata": {},
   "outputs": [],
   "source": [
    "ax, fig = db.plot_fig(region)"
   ]
  },
  {
   "cell_type": "code",
   "execution_count": 211,
   "metadata": {},
   "outputs": [
    {
     "name": "stdout",
     "output_type": "stream",
     "text": [
      "[(-631528.5002035924, 1325436.0574126197), (-630674.6334533931, 1323091.8505740194)]\n"
     ]
    }
   ],
   "source": []
  },
  {
   "cell_type": "code",
   "execution_count": 212,
   "metadata": {},
   "outputs": [],
   "source": [
    "db.plot_line(ax, linetry3.coords,ls='-',color='red',zorder=2)"
   ]
  },
  {
   "cell_type": "code",
   "execution_count": 213,
   "metadata": {},
   "outputs": [
    {
     "data": {
      "image/png": "[encoded data removed]",
      "text/plain": [
       "<matplotlib.figure.Figure at 0x10df77bd0>"
      ]
     },
     "metadata": {},
     "output_type": "display_data"
    }
   ],
   "source": [
    "pyplot.show()"
   ]
  },
  {
   "cell_type": "code",
   "execution_count": null,
   "metadata": {},
   "outputs": [],
   "source": []
  }
 ],
 "metadata": {
  "kernelspec": {
   "display_name": "Python 2",
   "language": "python",
   "name": "python2"
  },
  "language_info": {
   "codemirror_mode": {
    "name": "ipython",
    "version": 2
   },
   "file_extension": ".py",
   "mimetype": "text/x-python",
   "name": "python",
   "nbconvert_exporter": "python",
   "pygments_lexer": "ipython2",
   "version": "2.7.13"
  }
 },
 "nbformat": 4,
 "nbformat_minor": 2
}
