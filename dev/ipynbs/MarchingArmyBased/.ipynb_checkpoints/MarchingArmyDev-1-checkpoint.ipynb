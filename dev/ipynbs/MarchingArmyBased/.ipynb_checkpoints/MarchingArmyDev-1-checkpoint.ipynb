{
 "cells": [
  {
   "cell_type": "markdown",
   "metadata": {},
   "source": [
    "##### Possible Parameters:\n",
    "- starting line * \n",
    "    - intelligent way to pick this slope?\n",
    "\n",
    "- number of iterations *\n",
    "\n",
    "- starting PT on the starting line (& thus subsequent lines)\n",
    "    - intelligent way to pick the starting pt?"
   ]
  },
  {
   "cell_type": "code",
   "execution_count": 219,
   "metadata": {},
   "outputs": [],
   "source": [
    "import shapely\n",
    "from shapely import geometry\n",
    "import math\n",
    "shapely.__file__\n",
    "import fiona # need to install from src in order for buffering to work. see: https://github.com/geoplex/elasticsearch-spatial/issues/1\n",
    "import numpy\n",
    "from matplotlib import pyplot\n",
    "import sys\n",
    "sys.path.append('../../alg')\n",
    "import distance_buffer as db\n"
   ]
  },
  {
   "cell_type": "code",
   "execution_count": 220,
   "metadata": {},
   "outputs": [
    {
     "data": {
      "text/plain": [
       "<module 'distance_buffer' from '../../../alg/distance_buffer.pyc'>"
      ]
     },
     "execution_count": 220,
     "metadata": {},
     "output_type": "execute_result"
    }
   ],
   "source": [
    "reload(db)"
   ]
  },
  {
   "cell_type": "code",
   "execution_count": 221,
   "metadata": {},
   "outputs": [],
   "source": [
    "import numpy as np"
   ]
  },
  {
   "cell_type": "code",
   "execution_count": 68,
   "metadata": {},
   "outputs": [],
   "source": [
    "def gen_rand_pt(lo, hi):\n",
    "    return ((lo - hi) * np.random.random() + hi)"
   ]
  },
  {
   "cell_type": "code",
   "execution_count": 351,
   "metadata": {},
   "outputs": [],
   "source": [
    "# Note : this method will just pick the first rand pt found in the region\n",
    "def gen_rand_pt_on_line(pt1, pt2, vec, region):\n",
    "    pt = []\n",
    "    mag = db.eucdist(pt1[0], pt1[1], pt2[0], pt2[1])\n",
    "    randdist = gen_rand_pt(0, mag[0])\n",
    "    randptp = pt1 + randdist*vec\n",
    "    randptn = pt1 - randdist*vec\n",
    "    randptp2 = pt2 + randdist*vec\n",
    "    randptn2 = pt2 - randdist*vec\n",
    "\n",
    "    if region.contains(geometry.Point(randptp)):\n",
    "        pt = randptp\n",
    "    elif region.contains(geometry.Point(randptn)):\n",
    "        pt = randptn\n",
    "    elif region.contains(geometry.Point(randptp2)):\n",
    "        pt = randptp2\n",
    "    elif region.contains(geometry.Point(randptn2)):\n",
    "        pt = randptn2\n",
    "    else:\n",
    "        print \"contains none....\"\n",
    "    #randptn = pt1 - randdist*vec\n",
    "    #if \n",
    "    return pt"
   ]
  },
  {
   "cell_type": "code",
   "execution_count": 357,
   "metadata": {},
   "outputs": [],
   "source": [
    "def gen_starting_line(bounds):\n",
    "    # randomly pick 2 pts in area then get unit vector of that line\n",
    "    pt1 = (gen_rand_pt(bounds[0],bounds[2]),gen_rand_pt(bounds[1],bounds[3]))\n",
    "    pt2 = (gen_rand_pt(bounds[0],bounds[2]),gen_rand_pt(bounds[1],bounds[3]))\n",
    "    # this switch doesnt really make a difference\n",
    "    temp = pt2\n",
    "    pt2 = np.array(pt1)\n",
    "    pt1 = np.array(temp)\n",
    "    v = pt2 - pt1\n",
    "    line = v/np.linalg.norm(v)\n",
    "    # TODO : vvv change this to a while loop\n",
    "    #line = []\n",
    "    #if not ((pt1[0]==pt2[0]) and (pt1[1]==pt2[1])):\n",
    "    #    v = pt2 - pt1\n",
    "    #    line = v / np.linalg.norm(v)\n",
    "    #else:\n",
    "    #    line = gen_starting_line(bounds)\n",
    "    return line, pt1,pt2\n",
    "    "
   ]
  },
  {
   "cell_type": "code",
   "execution_count": 376,
   "metadata": {},
   "outputs": [],
   "source": [
    "def gen_cand_pts_on_line(poly, linevec, startpt, r):\n",
    "    #main algorithm, start from the randomly generated intersecting line & then \n",
    "    # keeps track of running missed pts; stop once we get to a thresh\n",
    "    nummissedpts = 0\n",
    "    pt = startpt\n",
    "    candpts = []\n",
    "    optdist = math.sqrt(3)*r\n",
    "    \n",
    "    #positive direction loop\n",
    "    while nummissedpts < 100:\n",
    "        temppt = pt + optdist*linevec\n",
    "        pt = temppt\n",
    "        if poly.contains(geometry.Point(temppt)):\n",
    "            candpts.append(temppt)\n",
    "            nummissedpts = 0\n",
    "        else:\n",
    "            nummissedpts+=1\n",
    "            \n",
    "            \n",
    "    nummissedpts = 0\n",
    "    pt = startpt\n",
    "    while nummissedpts < 100:\n",
    "        temppt = pt - optdist*linevec\n",
    "        pt = temppt\n",
    "        if poly.contains(geometry.Point(temppt)):\n",
    "            candpts.append(temppt)\n",
    "            nummissedpts = 0\n",
    "        else:\n",
    "            nummissedpts+=1\n",
    "\n",
    "   \n",
    "    return candpts\n",
    "    "
   ]
  },
  {
   "cell_type": "code",
   "execution_count": 339,
   "metadata": {},
   "outputs": [],
   "source": [
    "# line[0] is starting pt, line[1] endpt; poly is a ring\n",
    "def intersect_line_region(pt1,linevec, poly):\n",
    "    \n",
    "    intpt = []\n",
    "    i = 1\n",
    "    while len(intpt) < 2:\n",
    "    #    # the line is a unit vector, get it long enough to make sure it intersects before we return the pt\n",
    "        temp1 = pt1+ (100000.0*i)*linevec\n",
    "        temp2 = pt1 - (100000.0*i)*linevec\n",
    "        newline = geometry.LineString([temp1,temp2])\n",
    "        intpt = newline.intersection(poly)\n",
    "        i+=1\n",
    "    \n",
    "    return geometry.LineString(intpt)"
   ]
  },
  {
   "cell_type": "code",
   "execution_count": 30,
   "metadata": {},
   "outputs": [],
   "source": [
    "def analyze_coverage(origpoly, candpts, r):\n",
    "    \n",
    "    \n",
    "    return results\n",
    "    "
   ]
  },
  {
   "cell_type": "code",
   "execution_count": 31,
   "metadata": {},
   "outputs": [],
   "source": [
    "# Polygon to be covered, num of iterations to run algorithm, r = coverage radius\n",
    "def marching_army(poly, numiter, r): #should there be some kind of variance parameter?\n",
    "    \n",
    "    # candptset[x] contains the candpts found for that in iter x; likewise for results[x]\n",
    "    candptsets = []\n",
    "    results = []\n",
    "    \n",
    "    for i in range(0, numiter):\n",
    "        bds = poly.bounds\n",
    "        line = gen_starting_line(bds)\n",
    "        candptsets.append(gen_cand_pts(poly, startline, r))\n",
    "        results.append(analyze_coverage(poly, candptsets[i], r))\n",
    "    \n",
    "    return candptsets, results"
   ]
  },
  {
   "cell_type": "markdown",
   "metadata": {},
   "source": [
    "### Read in the shapefile and get the polygon that we're going to work with"
   ]
  },
  {
   "cell_type": "code",
   "execution_count": 35,
   "metadata": {},
   "outputs": [
    {
     "name": "stdout",
     "output_type": "stream",
     "text": [
      "183\n",
      "0\n",
      "4918771.66688\n",
      "(-631535.6236662696, 1321572.2678891697, -630132.1088717761, 1327921.5599169973)\n"
     ]
    }
   ],
   "source": [
    "shp = fiona.open(\"../../../data/YukonAlaska/YukonRegionCRS.shp\")\n",
    "l = iter(shp) # get the list of geoms from the shapefile \n",
    "first = next(l)\n",
    "shp_geom = shapely.geometry.shape(first['geometry'])\n",
    "\n",
    "# This is a sufficiently irregular shape so we will go with this one\n",
    "region = shp_geom\n",
    "print len(region.exterior.coords)\n",
    "print len(region.interiors)\n",
    "print region.area\n",
    "region\n",
    "print region.bounds"
   ]
  },
  {
   "cell_type": "markdown",
   "metadata": {},
   "source": [
    "### Run marching army algorithm on the polygon"
   ]
  },
  {
   "cell_type": "code",
   "execution_count": 34,
   "metadata": {},
   "outputs": [
    {
     "name": "stdout",
     "output_type": "stream",
     "text": [
      "4\n"
     ]
    },
    {
     "ename": "TypeError",
     "evalue": "'NoneType' object is not iterable",
     "output_type": "error",
     "traceback": [
      "\u001b[0;31m---------------------------------------------------------------------------\u001b[0m",
      "\u001b[0;31mTypeError\u001b[0m                                 Traceback (most recent call last)",
      "\u001b[0;32m<ipython-input-34-dbc0f3fa3366>\u001b[0m in \u001b[0;36m<module>\u001b[0;34m()\u001b[0m\n\u001b[0;32m----> 1\u001b[0;31m \u001b[0mcandptsets\u001b[0m\u001b[0;34m,\u001b[0m \u001b[0mcoverresults\u001b[0m \u001b[0;34m=\u001b[0m \u001b[0mmarching_army\u001b[0m\u001b[0;34m(\u001b[0m\u001b[0mregion\u001b[0m\u001b[0;34m,\u001b[0m \u001b[0;36m1000\u001b[0m\u001b[0;34m)\u001b[0m\u001b[0;34m\u001b[0m\u001b[0m\n\u001b[0m",
      "\u001b[0;31mTypeError\u001b[0m: 'NoneType' object is not iterable"
     ]
    }
   ],
   "source": [
    "candptsets, coverresults = marching_army(region, 1000)"
   ]
  },
  {
   "cell_type": "code",
   "execution_count": 45,
   "metadata": {},
   "outputs": [],
   "source": []
  },
  {
   "cell_type": "markdown",
   "metadata": {},
   "source": [
    "### START here"
   ]
  },
  {
   "cell_type": "code",
   "execution_count": 340,
   "metadata": {},
   "outputs": [
    {
     "name": "stdout",
     "output_type": "stream",
     "text": [
      "[ 0.03962154  0.99921476]\n",
      "[ -631043.50761459  1322134.72776422] [ -630854.11745302  1326910.95403674]\n"
     ]
    }
   ],
   "source": [
    "bounds = region.bounds\n",
    "start_line, pt1,pt2 = gen_starting_line(bounds)\n",
    "print start_line\n",
    "print pt1,pt2\n"
   ]
  },
  {
   "cell_type": "code",
   "execution_count": 341,
   "metadata": {},
   "outputs": [
    {
     "name": "stdout",
     "output_type": "stream",
     "text": [
      "LINESTRING (-631065.679734361 1321575.569568916, -631057.7910396676 1321774.514384942, -631047.1490753026 1322042.893847576, -630855.6597971963 1326872.05769333, -630844.1881165965 1327161.361751238, -630843.7558990323 1327172.261836378, -630836.6100758255 1327352.472192904, -630835.7924213248 1327373.092603573, -630831.9048865301 1327471.132257098, -630816.7217635473 1327854.035097923)\n"
     ]
    }
   ],
   "source": [
    "intpt = intersect_line_region(pt1, start_line, region.exterior)\n",
    "print intpt"
   ]
  },
  {
   "cell_type": "code",
   "execution_count": 355,
   "metadata": {},
   "outputs": [
    {
     "name": "stdout",
     "output_type": "stream",
     "text": [
      "[ -630912.50646191  1325438.44292009]\n"
     ]
    }
   ],
   "source": [
    "randpts = gen_rand_pt_on_line(pt1, pt2, start_line, region)\n",
    "print randpts"
   ]
  },
  {
   "cell_type": "code",
   "execution_count": 358,
   "metadata": {},
   "outputs": [
    {
     "name": "stdout",
     "output_type": "stream",
     "text": [
      "[ 0.03962154  0.99921476]\n"
     ]
    }
   ],
   "source": [
    "print start_line"
   ]
  },
  {
   "cell_type": "code",
   "execution_count": 378,
   "metadata": {},
   "outputs": [
    {
     "name": "stdout",
     "output_type": "stream",
     "text": [
      "[(-630905.64380972541, -630898.7811575362, -630891.91850534698, -630885.05585315777, -630878.19320096856, -630871.33054877934, -630864.46789659013, -630857.60524440091, -630843.87994002248, -630830.15463564405, -630823.29198345484), (1325611.5119930231, 1325784.5810659532, 1325957.6501388834, 1326130.7192118135, 1326303.7882847437, 1326476.8573576738, 1326649.926430604, 1326822.9955035341, 1327169.1336493944, 1327515.2717952547, 1327688.3408681848)]\n"
     ]
    }
   ],
   "source": [
    "candpts1 = gen_cand_pts_on_line(region, start_line,randpts, 100.0)\n",
    "print zip(*candpts1)"
   ]
  },
  {
   "cell_type": "code",
   "execution_count": 382,
   "metadata": {},
   "outputs": [
    {
     "data": {
      "image/png": "[encoded data removed]",
      "text/plain": [
       "<matplotlib.figure.Figure at 0x10e1521d0>"
      ]
     },
     "metadata": {},
     "output_type": "display_data"
    }
   ],
   "source": [
    "ax, fig = db.plot_fig(region)\n",
    "db.plot_line(ax, intpt.coords,ls='-',color='red',zorder=2)\n",
    "#temp = zip(*randpts)\n",
    "ax.plot(pt1[0], pt1[1], 'x', color=\"black\")\n",
    "ax.plot(pt2[0], pt2[1], '*', color=\"black\")\n",
    "#db.plot_radii(ax, zip(*candpts1),100.0)\n",
    "tcandpts1 = zip(*candpts1)\n",
    "ax.plot(tcandpts1[0], tcandpts1[1], 'o', color='pink')\n",
    "ax.plot(randpts[0], randpts[1], 'o', color='green')\n",
    "pyplot.show()"
   ]
  },
  {
   "cell_type": "code",
   "execution_count": null,
   "metadata": {},
   "outputs": [],
   "source": []
  },
  {
   "cell_type": "code",
   "execution_count": null,
   "metadata": {},
   "outputs": [],
   "source": []
  },
  {
   "cell_type": "code",
   "execution_count": 66,
   "metadata": {},
   "outputs": [
    {
     "name": "stdout",
     "output_type": "stream",
     "text": [
      "[1 2]\n"
     ]
    }
   ],
   "source": [
    "p =np.array([1,2])\n",
    "print p"
   ]
  },
  {
   "cell_type": "code",
   "execution_count": 224,
   "metadata": {},
   "outputs": [
    {
     "name": "stdout",
     "output_type": "stream",
     "text": [
      "[ 0.26967216 -0.96295219]\n",
      "(-631535.6236662696, 1321572.2678891697, -630132.1088717761, 1327921.5599169973)\n",
      "[ -630988.49830285  1326571.68047753] [ -630542.89201829  1324980.4982268 ]\n"
     ]
    }
   ],
   "source": [
    "bounds = region.bounds\n",
    "pt1 = np.array([gen_rand_pt(bounds[0],bounds[2]), gen_rand_pt(bounds[1],bounds[3])])\n",
    "pt2 = np.array([gen_rand_pt(bounds[0], bounds[2]), gen_rand_pt(bounds[1], bounds[3])])\n",
    "line = []\n",
    "if not ((pt1[0]==pt2[0]) and (pt1[1]==pt[1])):\n",
    "    v = pt2 - pt1\n",
    "    line = v / np.linalg.norm(v)\n",
    "\n",
    "    print line\n",
    "print bounds\n",
    "print pt1, pt2"
   ]
  },
  {
   "cell_type": "code",
   "execution_count": 134,
   "metadata": {},
   "outputs": [],
   "source": [
    "vecpt1 = line*1000000.0\n",
    "vecpt2 = line*-1000000.0\n",
    "\n",
    "vecline = geometry.LineString([vecpt1, vecpt2])\n",
    "intpt2 = vecline.intersection(region.exterior)"
   ]
  },
  {
   "cell_type": "code",
   "execution_count": 135,
   "metadata": {},
   "outputs": [
    {
     "name": "stdout",
     "output_type": "stream",
     "text": [
      "LINESTRING (342248.505310455 -939609.4723941215, -342248.505310455 939609.4723941215)\n",
      "GEOMETRYCOLLECTION EMPTY\n"
     ]
    }
   ],
   "source": [
    "print vecline\n",
    "print intpt2"
   ]
  },
  {
   "cell_type": "code",
   "execution_count": 136,
   "metadata": {},
   "outputs": [
    {
     "name": "stdout",
     "output_type": "stream",
     "text": [
      "GEOMETRYCOLLECTION EMPTY\n"
     ]
    }
   ],
   "source": [
    "linepts = geometry.LineString([pt1,pt2])\n",
    "intpt = linepts.intersection(region.exterior)\n",
    "print intpt"
   ]
  },
  {
   "cell_type": "code",
   "execution_count": 137,
   "metadata": {},
   "outputs": [
    {
     "name": "stdout",
     "output_type": "stream",
     "text": [
      "LINESTRING (-631290.9326336206 1324783.839110376, -630727.1346371475 1323235.987389234)\n",
      "GEOMETRYCOLLECTION EMPTY\n"
     ]
    }
   ],
   "source": [
    "print linepts\n",
    "print intpt\n"
   ]
  },
  {
   "cell_type": "code",
   "execution_count": 141,
   "metadata": {},
   "outputs": [
    {
     "name": "stdout",
     "output_type": "stream",
     "text": [
      "LINESTRING (-597066.0821025751 1230822.891870964, -665515.783164666 1418744.786349788)\n",
      "MULTIPOINT (-631528.5002035924 1325436.05741262, -630674.6334533931 1323091.850574019)\n"
     ]
    }
   ],
   "source": [
    "temp1 = pt1+ 100000.0*line\n",
    "temp2 = pt1 - 100000.0*line\n",
    "try3 = geometry.LineString([temp1,temp2])\n",
    "intpt3 = try3.intersection(region.exterior)\n",
    "print try3\n",
    "print intpt3"
   ]
  },
  {
   "cell_type": "code",
   "execution_count": 214,
   "metadata": {},
   "outputs": [
    {
     "name": "stdout",
     "output_type": "stream",
     "text": [
      "[<shapely.geometry.point.Point object at 0x10da68050>, <shapely.geometry.point.Point object at 0x10d1ac110>]\n"
     ]
    }
   ],
   "source": [
    "# convert from multipoint to a linestring for plotting\n",
    "print list(intpt3.geoms)\n",
    "linetry3 = geometry.LineString(intpt3)"
   ]
  },
  {
   "cell_type": "code",
   "execution_count": 163,
   "metadata": {},
   "outputs": [
    {
     "name": "stdout",
     "output_type": "stream",
     "text": [
      "LINESTRING (-631528.5002035924 1325436.05741262, -630674.6334533931 1323091.850574019)\n"
     ]
    }
   ],
   "source": [
    "print linetry3"
   ]
  },
  {
   "cell_type": "markdown",
   "metadata": {},
   "source": [
    "## Plot the figure"
   ]
  },
  {
   "cell_type": "code",
   "execution_count": 210,
   "metadata": {},
   "outputs": [],
   "source": [
    "ax, fig = db.plot_fig(region)"
   ]
  },
  {
   "cell_type": "code",
   "execution_count": 211,
   "metadata": {},
   "outputs": [
    {
     "name": "stdout",
     "output_type": "stream",
     "text": [
      "[(-631528.5002035924, 1325436.0574126197), (-630674.6334533931, 1323091.8505740194)]\n"
     ]
    }
   ],
   "source": []
  },
  {
   "cell_type": "code",
   "execution_count": 212,
   "metadata": {},
   "outputs": [],
   "source": [
    "db.plot_line(ax, linetry3.coords,ls='-',color='red',zorder=2)"
   ]
  },
  {
   "cell_type": "code",
   "execution_count": 213,
   "metadata": {},
   "outputs": [
    {
     "data": {
      "image/png": "[encoded data removed]",
      "text/plain": [
       "<matplotlib.figure.Figure at 0x10df77bd0>"
      ]
     },
     "metadata": {},
     "output_type": "display_data"
    }
   ],
   "source": [
    "pyplot.show()"
   ]
  },
  {
   "cell_type": "code",
   "execution_count": null,
   "metadata": {},
   "outputs": [],
   "source": []
  }
 ],
 "metadata": {
  "kernelspec": {
   "display_name": "Python 2",
   "language": "python",
   "name": "python2"
  },
  "language_info": {
   "codemirror_mode": {
    "name": "ipython",
    "version": 2
   },
   "file_extension": ".py",
   "mimetype": "text/x-python",
   "name": "python",
   "nbconvert_exporter": "python",
   "pygments_lexer": "ipython2",
   "version": "2.7.13"
  }
 },
 "nbformat": 4,
 "nbformat_minor": 2
}
