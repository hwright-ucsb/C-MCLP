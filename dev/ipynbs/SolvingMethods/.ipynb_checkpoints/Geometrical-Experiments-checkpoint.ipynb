{
 "cells": [
  {
   "cell_type": "code",
   "execution_count": 1,
   "metadata": {},
   "outputs": [],
   "source": [
    "# import statements\n",
    "import sys\n",
    "sys.path.append('../../../alg')\n",
    "import marching_army as ma, distance_buffer as db\n",
    "\n",
    "from shapely import geometry\n",
    "from shapely.ops import transform\n",
    "from descartes import PolygonPatch\n",
    "from shapely.geometry import Point, Polygon, MultiPolygon, LineString\n",
    "from scipy.stats import truncnorm\n",
    "from functools import partial\n",
    "import matplotlib.pyplot as plt, numpy as np\n",
    "import pandas as pd, geopandas as gpd\n",
    "import shapely\n",
    "import math\n",
    "import pyproj\n",
    "import fiona\n",
    "\n",
    "\n",
    "%matplotlib inline"
   ]
  },
  {
   "cell_type": "markdown",
   "metadata": {},
   "source": [
    "# METHODS"
   ]
  },
  {
   "cell_type": "code",
   "execution_count": 7,
   "metadata": {},
   "outputs": [],
   "source": [
    "def generate_grid(rad, bds):\n",
    "    # get the largest diagonal dist and this is what we will make \n",
    "    #our regtangle of points on the grid based on (so when we shift/rotate the whole \n",
    "    #shape will be covered still)\n",
    "    [west, south, east, north] = bds\n",
    "    bounds = [west,south,east,north]\n",
    "    diags = [db.eucdist(west,north,east,south)[0], db.eucdist(west,south,east,north)[0]]\n",
    "    maxdiag = max(diags)\n",
    "    \n",
    "    #generate the \"two\" grids\n",
    "    r = rad\n",
    "    x_shift = (r/2.0)*math.sqrt(3)\n",
    "    y_shift = (3.0/2.0)*r\n",
    "\n",
    "    x_ints = int(math.ceil(maxdiag/x_shift))\n",
    "    y_ints = int(math.ceil(maxdiag/y_shift))\n",
    "\n",
    "    stopx = bounds[0]+(x_ints*x_shift)\n",
    "    stopy = bounds[1]+(y_ints*y_shift)\n",
    "\n",
    "    # create the equally spaced coord points for the \"grid\" cand pts\n",
    "    xs_all = np.linspace(west,stopx,x_ints)\n",
    "    ys_all = np.linspace(south,stopy,y_ints)\n",
    "    \n",
    "    # now take odds with odds and evens with evens (\"2\" grids)\n",
    "    xs_odd = []\n",
    "    xs_even = []\n",
    "    ys_odd = []\n",
    "    ys_even = []\n",
    "\n",
    "    for i in range(0,len(xs_all)):\n",
    "        if i%2 == 0:\n",
    "            xs_even.append(xs_all[i])\n",
    "        else:\n",
    "            xs_odd.append(xs_all[i])\n",
    "    for i in range(0,len(ys_all)):\n",
    "        if i%2 == 0:\n",
    "            ys_even.append(ys_all[i])\n",
    "        else:\n",
    "            ys_odd.append(ys_all[i])\n",
    "\n",
    "    xs_odd = np.array(xs_odd)\n",
    "    xs_even = np.array(xs_even)\n",
    "    ys_odd = np.array(ys_odd)\n",
    "    ys_even = np.array(ys_even)\n",
    "\n",
    "    x_grid1, y_grid1 = np.meshgrid(xs_odd, ys_odd)\n",
    "    x_grid2, y_grid2 = np.meshgrid(xs_even, ys_even)\n",
    "    \n",
    "    # create the data dicts that will create the geodataframe\n",
    "    data1={'x':x_grid1.flatten(), 'y':y_grid1.flatten()}\n",
    "    data2={'x':x_grid2.flatten(), 'y':y_grid2.flatten()}\n",
    "    \n",
    "    data_all = data1.copy()   # start with x's keys and values\n",
    "    data_all.update(data2)\n",
    "\n",
    "    grid1gdf = gpd.GeoDataFrame(data={'x':x_grid1.flatten(), 'y':y_grid1.flatten()})\n",
    "    grid2gdf = gpd.GeoDataFrame(data={'x':x_grid2.flatten(), 'y':y_grid2.flatten()})\n",
    "    \n",
    "    gridgdf = gpd.GeoDataFrame( pd.concat( [grid1gdf,grid2gdf], ignore_index=True) )\n",
    "    gridgdf['geometry'] = gridgdf.apply(lambda row: Point((row['x'], row['y'])), axis=1)\n",
    "\n",
    "    return gridgdf"
   ]
  },
  {
   "cell_type": "markdown",
   "metadata": {},
   "source": [
    "# Experiments"
   ]
  },
  {
   "cell_type": "code",
   "execution_count": 8,
   "metadata": {},
   "outputs": [],
   "source": [
    "# check out some fds properties\n",
    "\n",
    "smol = generate_grid(10.0, [0,0,100,100])\n",
    "\n"
   ]
  },
  {
   "cell_type": "code",
   "execution_count": null,
   "metadata": {},
   "outputs": [],
   "source": []
  }
 ],
 "metadata": {
  "kernelspec": {
   "display_name": "mclpkernel",
   "language": "python",
   "name": "mclpkernel"
  },
  "language_info": {
   "codemirror_mode": {
    "name": "ipython",
    "version": 2
   },
   "file_extension": ".py",
   "mimetype": "text/x-python",
   "name": "python",
   "nbconvert_exporter": "python",
   "pygments_lexer": "ipython2",
   "version": "2.7.14"
  }
 },
 "nbformat": 4,
 "nbformat_minor": 2
}
