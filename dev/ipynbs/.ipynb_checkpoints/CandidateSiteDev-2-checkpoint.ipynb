{
 "cells": [
  {
   "cell_type": "code",
   "execution_count": 189,
   "metadata": {
    "scrolled": false
   },
   "outputs": [],
   "source": [
    "import sys\n",
    "sys.path.append('../../alg')\n",
    "import distance_buffer as db\n",
    "\n",
    "from shapely.geometry import Polygon\n",
    "from shapely.geometry import LinearRing\n",
    "from shapely.geometry import LineString\n",
    "from shapely.geometry import Point\n",
    "\n",
    "import numpy as np\n",
    "\n",
    "from scipy.spatial.distance import euclidean\n",
    "\n",
    "from math import sqrt\n",
    "from math import floor\n",
    "from matplotlib import pyplot\n",
    "from matplotlib.patches import Circle\n",
    "from descartes.patch import PolygonPatch"
   ]
  },
  {
   "cell_type": "code",
   "execution_count": 292,
   "metadata": {},
   "outputs": [],
   "source": [
    "from shapely.geometry import MultiPolygon"
   ]
  },
  {
   "cell_type": "code",
   "execution_count": 190,
   "metadata": {
    "scrolled": false
   },
   "outputs": [
    {
     "data": {
      "text/plain": [
       "<module 'distance_buffer' from '../../alg/distance_buffer.pyc'>"
      ]
     },
     "execution_count": 190,
     "metadata": {},
     "output_type": "execute_result"
    }
   ],
   "source": [
    "reload(db)"
   ]
  },
  {
   "cell_type": "code",
   "execution_count": 267,
   "metadata": {
    "scrolled": false
   },
   "outputs": [
    {
     "name": "stdout",
     "output_type": "stream",
     "text": [
      "155778.0\n",
      "num of buffers 11\n",
      "LINE EQ: \n",
      "y = -1.35714285714*x + 211.071428571\n",
      "ENTERING PT SEG CIRCLE ENTERING PT SEG CIRCLE ENTERING PT SEG CIRCLE ENTERING PT SEG CIRCLE \n",
      "0.423713598607 -0.423713598607\n",
      "ENTERING PT SEG CIRCLE ENTERING PT SEG CIRCLE ENTERING PT SEG CIRCLE ENTERING PT SEG CIRCLE \n",
      "0.735248302897 -0.735248302897\n",
      "ENTERING PT SEG CIRCLE ENTERING PT SEG CIRCLE ENTERING PT SEG CIRCLE ENTERING PT SEG CIRCLE \n",
      "2.77712404092 -2.77712404092\n",
      "no intercept (there would be one if the line segment cont'd)\n",
      "LINE EQ: \n",
      "y = 2.16666666667*x + -95.5\n",
      "ENTERING PT SEG CIRCLE ENTERING PT SEG CIRCLE ENTERING PT SEG CIRCLE ENTERING PT SEG CIRCLE \n",
      "0.270731254821 -0.392045239475\n",
      "ENTERING PT SEG CIRCLE ENTERING PT SEG CIRCLE ENTERING PT SEG CIRCLE ENTERING PT SEG CIRCLE \n",
      "0.478856594628 -0.478856594628\n",
      "ENTERING PT SEG CIRCLE ENTERING PT SEG CIRCLE ENTERING PT SEG CIRCLE ENTERING PT SEG CIRCLE \n",
      "0.918857630532 -0.918857630532\n",
      "ENTERING PT SEG CIRCLE ENTERING PT SEG CIRCLE ENTERING PT SEG CIRCLE ENTERING PT SEG CIRCLE \n",
      "11.3240177303 -11.3240177303\n",
      "no intercept (there would be one if the line segment cont'd)\n",
      "LINE EQ: \n",
      "y = -1.2*x + 237.8\n",
      "ENTERING PT SEG CIRCLE ENTERING PT SEG CIRCLE ENTERING PT SEG CIRCLE ENTERING PT SEG CIRCLE \n",
      "0.331205606278 -0.306939285432\n",
      "ENTERING PT SEG CIRCLE ENTERING PT SEG CIRCLE ENTERING PT SEG CIRCLE ENTERING PT SEG CIRCLE \n",
      "0.478610770122 -0.478610770122\n",
      "ENTERING PT SEG CIRCLE ENTERING PT SEG CIRCLE ENTERING PT SEG CIRCLE ENTERING PT SEG CIRCLE \n",
      "0.917952927861 -0.917952927861\n",
      "ENTERING PT SEG CIRCLE ENTERING PT SEG CIRCLE ENTERING PT SEG CIRCLE ENTERING PT SEG CIRCLE \n",
      "11.1881253521 -11.1881253521\n",
      "no intercept (there would be one if the line segment cont'd)\n",
      "LINE EQ: \n",
      "y = 1.16666666667*x + -43.8333333333\n",
      "ENTERING PT SEG CIRCLE ENTERING PT SEG CIRCLE ENTERING PT SEG CIRCLE ENTERING PT SEG CIRCLE \n",
      "0.354758533031 -0.365529354323\n",
      "ENTERING PT SEG CIRCLE ENTERING PT SEG CIRCLE ENTERING PT SEG CIRCLE ENTERING PT SEG CIRCLE \n",
      "0.560334047856 -0.560334047856\n",
      "ENTERING PT SEG CIRCLE ENTERING PT SEG CIRCLE ENTERING PT SEG CIRCLE ENTERING PT SEG CIRCLE \n",
      "1.27445403749 -1.27445403749\n",
      "no intercept (there would be one if the line segment cont'd)\n",
      "[array([ 95.06800962,  82.05055837]), array([ 89.13601924,  90.10111675]), array([  90.24877506,  100.03901263]), array([  94.43935683,  109.11860647]), array([  98.62993861,  118.19820032]), array([ 105.62411213,  111.05106545]), array([ 112.02595612,  103.36885265]), array([ 118.42780012,   95.68663986]), array([ 112.61434641,   87.55007081]), array([ 106.10643267,   79.95750478])]\n"
     ]
    }
   ],
   "source": [
    "\n",
    "## distance fig\n",
    "\n",
    "\n",
    "\n",
    "targetArea = Polygon([(0,0),(0,400),(400,400),(400,0)],[[(101,74),(87,93),(99,119),(119,95)],[(200,70),(200,50),(300,20),(330,45),(370,45)]])\n",
    "print targetArea.area\n",
    "\n",
    "\n",
    "fig = pyplot.figure(1, dpi=90)\n",
    "ax = fig.add_subplot(111)\n",
    "db.plot_coords(ax, targetArea.interiors[0])\n",
    "db.plot_coords(ax, targetArea.exterior)\n",
    "patch = PolygonPatch(targetArea, facecolor='#6699cc', edgecolor='#6699cc', alpha=0.1, zorder=2)\n",
    "ax.add_patch(patch)\n",
    "\n",
    "\n",
    "## buffer fig\n",
    "buffers = db.gen_dist_buffers(10.0, targetArea)\n",
    "db.plot_dist_buffers(ax, buffers)\n",
    "\n",
    "#pts_buffer1 = db.find_cand_points_list(list(buffers[0].interiors[0].coords),10.0)\n",
    "pts_buffer1 = db.find_cand_points_list_ref(list(buffers[0].interiors[0].coords),10.0)\n",
    "print pts_buffer1\n",
    "\n",
    "#db.plot_coords_list(ax, pts_buffer1, color=\"#000000\", zorder=3)"
   ]
  },
  {
   "cell_type": "code",
   "execution_count": 289,
   "metadata": {},
   "outputs": [
    {
     "name": "stdout",
     "output_type": "stream",
     "text": [
      "<class 'shapely.geometry.multipolygon.MultiPolygon'>\n"
     ]
    }
   ],
   "source": [
    "print type(buffers[3])"
   ]
  },
  {
   "cell_type": "code",
   "execution_count": 295,
   "metadata": {},
   "outputs": [
    {
     "name": "stdout",
     "output_type": "stream",
     "text": [
      "true\n"
     ]
    }
   ],
   "source": [
    "if isinstance(buffers[2], Polygon):\n",
    "    print \"true\""
   ]
  },
  {
   "cell_type": "code",
   "execution_count": 314,
   "metadata": {},
   "outputs": [
    {
     "name": "stdout",
     "output_type": "stream",
     "text": [
      "poly\n"
     ]
    },
    {
     "ename": "TypeError",
     "evalue": "poly_loop() takes exactly 2 arguments (1 given)",
     "output_type": "error",
     "traceback": [
      "\u001b[0;31m---------------------------------------------------------------------------\u001b[0m",
      "\u001b[0;31mTypeError\u001b[0m                                 Traceback (most recent call last)",
      "\u001b[0;32m<ipython-input-314-685f707ebc82>\u001b[0m in \u001b[0;36m<module>\u001b[0;34m()\u001b[0m\n\u001b[0;32m----> 1\u001b[0;31m \u001b[0mbuffer_loop\u001b[0m\u001b[0;34m(\u001b[0m\u001b[0mbuffers\u001b[0m\u001b[0;34m,\u001b[0m \u001b[0;36m10.0\u001b[0m\u001b[0;34m)\u001b[0m\u001b[0;34m\u001b[0m\u001b[0m\n\u001b[0m",
      "\u001b[0;32m<ipython-input-311-100a2cf26b24>\u001b[0m in \u001b[0;36mbuffer_loop\u001b[0;34m(buffers, r)\u001b[0m\n\u001b[1;32m      3\u001b[0m         \u001b[0;32mif\u001b[0m \u001b[0misinstance\u001b[0m\u001b[0;34m(\u001b[0m\u001b[0mbuffers\u001b[0m\u001b[0;34m[\u001b[0m\u001b[0mi\u001b[0m\u001b[0;34m]\u001b[0m\u001b[0;34m,\u001b[0m \u001b[0mPolygon\u001b[0m\u001b[0;34m)\u001b[0m\u001b[0;34m:\u001b[0m\u001b[0;34m\u001b[0m\u001b[0m\n\u001b[1;32m      4\u001b[0m             \u001b[0;32mprint\u001b[0m \u001b[0;34m\"poly\"\u001b[0m\u001b[0;34m\u001b[0m\u001b[0m\n\u001b[0;32m----> 5\u001b[0;31m             \u001b[0mpoly_loop\u001b[0m\u001b[0;34m(\u001b[0m\u001b[0mbuffers\u001b[0m\u001b[0;34m[\u001b[0m\u001b[0mi\u001b[0m\u001b[0;34m]\u001b[0m\u001b[0;34m)\u001b[0m\u001b[0;34m\u001b[0m\u001b[0m\n\u001b[0m\u001b[1;32m      6\u001b[0m         \u001b[0;32melif\u001b[0m \u001b[0misinstance\u001b[0m\u001b[0;34m(\u001b[0m\u001b[0mbuffers\u001b[0m\u001b[0;34m[\u001b[0m\u001b[0mi\u001b[0m\u001b[0;34m]\u001b[0m\u001b[0;34m,\u001b[0m \u001b[0mMultiPolygon\u001b[0m\u001b[0;34m)\u001b[0m\u001b[0;34m:\u001b[0m\u001b[0;34m\u001b[0m\u001b[0m\n\u001b[1;32m      7\u001b[0m             \u001b[0;32mprint\u001b[0m \u001b[0;34m\"multi\"\u001b[0m\u001b[0;34m\u001b[0m\u001b[0m\n",
      "\u001b[0;31mTypeError\u001b[0m: poly_loop() takes exactly 2 arguments (1 given)"
     ]
    }
   ],
   "source": [
    "buffer_loop(buffers, 10.0)"
   ]
  },
  {
   "cell_type": "code",
   "execution_count": 313,
   "metadata": {},
   "outputs": [],
   "source": [
    "def poly_loop(poly, r):\n",
    "    for i in range(0, len(poly.interiors)):\n",
    "        print \"interior\"\n",
    "    # and process exterior"
   ]
  },
  {
   "cell_type": "code",
   "execution_count": 311,
   "metadata": {},
   "outputs": [],
   "source": [
    "def buffer_loop(buffers, r):\n",
    "    for i in range(0, len(buffers)):\n",
    "        if isinstance(buffers[i], Polygon):\n",
    "            print \"poly\"\n",
    "            poly_loop(buffers[i], r)\n",
    "        elif isinstance(buffers[i], MultiPolygon):\n",
    "            print \"multi\"\n",
    "            for j in range(0, len(buffers[i])):\n",
    "                poly_loop(buffers[i].geoms[j], r)\n",
    "        "
   ]
  },
  {
   "cell_type": "code",
   "execution_count": 284,
   "metadata": {},
   "outputs": [
    {
     "data": {
      "image/png": "[encoded data removed]",
      "text/plain": [
       "<matplotlib.figure.Figure at 0x10a59e410>"
      ]
     },
     "metadata": {},
     "output_type": "display_data"
    }
   ],
   "source": [
    "pyplot.show()"
   ]
  }
 ],
 "metadata": {
  "kernelspec": {
   "display_name": "Python 2",
   "language": "python",
   "name": "python2"
  },
  "language_info": {
   "codemirror_mode": {
    "name": "ipython",
    "version": 2
   },
   "file_extension": ".py",
   "mimetype": "text/x-python",
   "name": "python",
   "nbconvert_exporter": "python",
   "pygments_lexer": "ipython2",
   "version": "2.7.13"
  }
 },
 "nbformat": 4,
 "nbformat_minor": 2
}
