{
 "cells": [
  {
   "cell_type": "code",
   "execution_count": 9,
   "metadata": {},
   "outputs": [],
   "source": [
    "import sys\n",
    "sys.path.append('../../alg')\n",
    "import distance_buffer as db\n",
    "\n",
    "from shapely.geometry import Polygon\n",
    "from shapely.geometry import LinearRing\n",
    "from shapely.geometry import LineString\n",
    "from shapely.geometry import Point\n",
    "\n",
    "import numpy as np\n",
    "\n",
    "from scipy.spatial.distance import euclidean\n",
    "\n",
    "from math import sqrt\n",
    "from math import floor\n",
    "from matplotlib import pyplot\n",
    "from matplotlib.patches import Circle\n",
    "from descartes.patch import PolygonPatch"
   ]
  },
  {
   "cell_type": "code",
   "execution_count": 10,
   "metadata": {},
   "outputs": [
    {
     "name": "stdout",
     "output_type": "stream",
     "text": [
      "155778.0\n"
     ]
    },
    {
     "ename": "NameError",
     "evalue": "name 'plot_coords' is not defined",
     "output_type": "error",
     "traceback": [
      "\u001b[0;31m---------------------------------------------------------------------------\u001b[0m",
      "\u001b[0;31mNameError\u001b[0m                                 Traceback (most recent call last)",
      "\u001b[0;32m<ipython-input-10-72641a8d69be>\u001b[0m in \u001b[0;36m<module>\u001b[0;34m()\u001b[0m\n\u001b[1;32m     10\u001b[0m \u001b[0;34m\u001b[0m\u001b[0m\n\u001b[1;32m     11\u001b[0m \u001b[0mdb\u001b[0m\u001b[0;34m.\u001b[0m\u001b[0mplot_coords\u001b[0m\u001b[0;34m(\u001b[0m\u001b[0max\u001b[0m\u001b[0;34m,\u001b[0m \u001b[0mtargetArea\u001b[0m\u001b[0;34m.\u001b[0m\u001b[0minteriors\u001b[0m\u001b[0;34m[\u001b[0m\u001b[0;36m0\u001b[0m\u001b[0;34m]\u001b[0m\u001b[0;34m)\u001b[0m\u001b[0;34m\u001b[0m\u001b[0m\n\u001b[0;32m---> 12\u001b[0;31m \u001b[0mplot_coords\u001b[0m\u001b[0;34m(\u001b[0m\u001b[0max\u001b[0m\u001b[0;34m,\u001b[0m \u001b[0mtargetArea\u001b[0m\u001b[0;34m.\u001b[0m\u001b[0mexterior\u001b[0m\u001b[0;34m)\u001b[0m\u001b[0;34m\u001b[0m\u001b[0m\n\u001b[0m\u001b[1;32m     13\u001b[0m \u001b[0mpatch\u001b[0m \u001b[0;34m=\u001b[0m \u001b[0mPolygonPatch\u001b[0m\u001b[0;34m(\u001b[0m\u001b[0mtargetArea\u001b[0m\u001b[0;34m,\u001b[0m \u001b[0mfacecolor\u001b[0m\u001b[0;34m=\u001b[0m\u001b[0;34m'#6699cc'\u001b[0m\u001b[0;34m,\u001b[0m \u001b[0medgecolor\u001b[0m\u001b[0;34m=\u001b[0m\u001b[0;34m'#6699cc'\u001b[0m\u001b[0;34m,\u001b[0m \u001b[0malpha\u001b[0m\u001b[0;34m=\u001b[0m\u001b[0;36m0.1\u001b[0m\u001b[0;34m,\u001b[0m \u001b[0mzorder\u001b[0m\u001b[0;34m=\u001b[0m\u001b[0;36m2\u001b[0m\u001b[0;34m)\u001b[0m\u001b[0;34m\u001b[0m\u001b[0m\n\u001b[1;32m     14\u001b[0m \u001b[0max\u001b[0m\u001b[0;34m.\u001b[0m\u001b[0madd_patch\u001b[0m\u001b[0;34m(\u001b[0m\u001b[0mpatch\u001b[0m\u001b[0;34m)\u001b[0m\u001b[0;34m\u001b[0m\u001b[0m\n",
      "\u001b[0;31mNameError\u001b[0m: name 'plot_coords' is not defined"
     ]
    }
   ],
   "source": [
    "\n",
    "## distance fig\n",
    "\n",
    "fig = pyplot.figure(1, dpi=90)\n",
    "\n",
    "ax = fig.add_subplot(111)\n",
    "\n",
    "targetArea = Polygon([(0,0),(0,400),(400,400),(400,0)],[[(101,74),(87,93),(99,119),(119,95)],[(200,70),(200,50),(300,20),(330,45),(370,45)]])\n",
    "print targetArea.area\n",
    "\n",
    "db.plot_coords(ax, targetArea.interiors[0])\n",
    "db.plot_coords(ax, targetArea.exterior)\n",
    "db.patch = PolygonPatch(targetArea, facecolor='#6699cc', edgecolor='#6699cc', alpha=0.1, zorder=2)\n",
    "ax.add_patch(patch)\n",
    "\n",
    "#pyplot.show()\n",
    "\n",
    "## buffer fig\n",
    "buffers = db.gen_dist_buffers(10.0, targetArea)\n",
    "db.plot_dist_buffers(ax, buffers)\n",
    "\n",
    "pts_buffer1 = db.find_cand_points(buffers[0],10.0)\n",
    "print pts_buffer1\n",
    "\n",
    "db.plot_coords_list(ax, pts_buffer1, color=\"#000000\", zorder=3)\n",
    "\n",
    "# experiment with buffer polys\n",
    "#for i in range(0, len(buffers)):\n",
    "#\tprint \"buffer \"+str(i)\n",
    "#\tif buffers[i].instanceof(shapely.geometry.polygon.MultiPolygon):\n",
    "#\t\tfor j in range(0, len(buffers[i])):\n",
    "#\t\t\tprint \"linestring length \"+str(j)+\" \"+buffers[i][j].length\n",
    "#\telse:\n",
    "#\t\tprint \"exterior length \"+str(buffers[i].exterior.length)\n",
    "#\t\tprint \"interior length \"+\" \"+str(buffers[i].interiors[0].length)\n",
    "\n",
    "\n",
    "#show plot\n",
    "pyplot.show()\n",
    "\n",
    "\n",
    "\n",
    "\n"
   ]
  },
  {
   "cell_type": "code",
   "execution_count": null,
   "metadata": {},
   "outputs": [],
   "source": []
  }
 ],
 "metadata": {
  "kernelspec": {
   "display_name": "Python 2",
   "language": "python",
   "name": "python2"
  },
  "language_info": {
   "codemirror_mode": {
    "name": "ipython",
    "version": 2
   },
   "file_extension": ".py",
   "mimetype": "text/x-python",
   "name": "python",
   "nbconvert_exporter": "python",
   "pygments_lexer": "ipython2",
   "version": "2.7.13"
  }
 },
 "nbformat": 4,
 "nbformat_minor": 2
}
