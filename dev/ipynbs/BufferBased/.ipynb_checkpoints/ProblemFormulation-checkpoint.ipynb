{
 "cells": [
  {
   "cell_type": "markdown",
   "metadata": {},
   "source": [
    "###### Scraps"
   ]
  },
  {
   "cell_type": "markdown",
   "metadata": {},
   "source": [
    "$$ a_i = \\text{demand/weight/population at point } x_i $$"
   ]
  },
  {
   "cell_type": "markdown",
   "metadata": {},
   "source": [
    "$$ p = \\text{number of facilities to place}$$"
   ]
  },
  {
   "cell_type": "code",
   "execution_count": null,
   "metadata": {},
   "outputs": [],
   "source": []
  },
  {
   "cell_type": "markdown",
   "metadata": {},
   "source": [
    "$$\n",
    "I = \\text{set of demand sites} \\\\\n",
    "    J = \\text{set of facility sites} \\\\\n",
    "    S_i = \\text{distance beyond which demand site }i\\text{ is considered uncovered} \\\\\n",
    "    d_{ij} = \\text{distance from demand site }i\\text{ to facility site }j \\\\\n",
    " a_i = \\text{demand/weight/population at point } x_i  \\\\\n",
    " p = \\text{number of facilities to place}\n",
    "$$\n",
    "\n",
    " "
   ]
  },
  {
   "cell_type": "code",
   "execution_count": null,
   "metadata": {},
   "outputs": [],
   "source": []
  },
  {
   "cell_type": "markdown",
   "metadata": {},
   "source": [
    " \\begin{equation}\n",
    "  y_i=\\left\\{\n",
    "  \\begin{array}{@{}ll@{}}\n",
    "    1 & \\text{if demand site } i \\text{ is NOT covered}\\\\\n",
    "    0 & \\text{otherwise}\n",
    "  \\end{array}\\right.\n",
    "\\end{equation} \n"
   ]
  },
  {
   "cell_type": "markdown",
   "metadata": {},
   "source": [
    " \\begin{equation}\n",
    "   x_j=\\left\\{\n",
    "   \\begin{array}{@{}11@{}}\n",
    "     1 & \\text{if facility is placed at site } j \\\\\n",
    "     0 & \\text{if not}\n",
    "   \\end{array}\\right.\n",
    " \\end{equation}"
   ]
  },
  {
   "cell_type": "markdown",
   "metadata": {},
   "source": [
    "- number of facilities being added to the system as defined by $x_j$"
   ]
  },
  {
   "cell_type": "markdown",
   "metadata": {},
   "source": [
    " \\begin{equation}\n",
    "  e_j=\\left\\{\n",
    "  \\begin{array}{@{}ll@{}}\n",
    "    1 & \\text{if facility is NOT placed at site }j\\\\\n",
    "    0 & \\text{otherwise}\n",
    "  \\end{array}\\right.\n",
    "\\end{equation} \n"
   ]
  },
  {
   "cell_type": "code",
   "execution_count": null,
   "metadata": {},
   "outputs": [],
   "source": []
  },
  {
   "cell_type": "code",
   "execution_count": null,
   "metadata": {},
   "outputs": [],
   "source": []
  },
  {
   "cell_type": "code",
   "execution_count": null,
   "metadata": {},
   "outputs": [],
   "source": []
  },
  {
   "cell_type": "code",
   "execution_count": null,
   "metadata": {},
   "outputs": [],
   "source": []
  },
  {
   "cell_type": "markdown",
   "metadata": {},
   "source": [
    "### Sets + Vars"
   ]
  },
  {
   "cell_type": "markdown",
   "metadata": {},
   "source": [
    " $$ I = \\text{set of demand sites} \\\\ $$\n",
    "  $$  J = \\text{set of facility sites} \\\\ $$\n",
    "   $$ S_i = \\text{distance beyond which demand site }i\\text{ is considered uncovered} \\\\ $$\n",
    "   $$ d_{ij} = \\text{distance from demand site }i\\text{ to facility site }j \\\\ $$\n",
    " $$a_i = \\text{demand/weight/population at point } x_i  \\\\ $$\n",
    " $$p = \\text{number of facilities to place} $$"
   ]
  },
  {
   "cell_type": "markdown",
   "metadata": {},
   "source": [
    "- $N_i$ is the covering set of $i$\n",
    "- the set of $j$ that cover demand point $i$\n",
    "$$ N_i = \\{ \\, j \\in J \\, | \\, d_{ij} \\leq S_i \\} $$"
   ]
  },
  {
   "cell_type": "markdown",
   "metadata": {},
   "source": [
    "### Binary Varables"
   ]
  },
  {
   "cell_type": "markdown",
   "metadata": {},
   "source": [
    " $$y_i = 1 \\text{ if site i NOT covered, }0\\text{ otherwise}$$\n",
    " $$x_j = 1 \\text{ if facility placed at j, 0 otherwise}$$\n",
    " $$e_j = 1 \\text{ if facility NOT placed at j, 0 otherwise}$$"
   ]
  },
  {
   "cell_type": "code",
   "execution_count": null,
   "metadata": {},
   "outputs": [],
   "source": []
  },
  {
   "cell_type": "code",
   "execution_count": null,
   "metadata": {},
   "outputs": [],
   "source": []
  },
  {
   "cell_type": "markdown",
   "metadata": {},
   "source": [
    "$$\\sum_{i\\in I} a_i = S $$"
   ]
  },
  {
   "cell_type": "markdown",
   "metadata": {},
   "source": [
    "$$\\sum_{j=0}^{J} x_j \\leq  p $$"
   ]
  },
  {
   "cell_type": "markdown",
   "metadata": {},
   "source": [
    "- minimize the amount of demand that is *not* covered (because $ y_i = 0 $ when it *is* covered)"
   ]
  },
  {
   "cell_type": "markdown",
   "metadata": {},
   "source": [
    "$$\\text{(o1)}\\;\\;\\;\\;  \\min \\sum_{i\\in I} y_i \\, a_i $$"
   ]
  },
  {
   "cell_type": "markdown",
   "metadata": {},
   "source": [
    "- minimize whatever you need to add to the cover to cover everything"
   ]
  },
  {
   "cell_type": "markdown",
   "metadata": {},
   "source": [
    "$$\\text{(o2)}\\;\\;\\;\\; \\min\\sum_{j\\in J} e_j $$"
   ]
  },
  {
   "cell_type": "markdown",
   "metadata": {},
   "source": [
    "### Constraints"
   ]
  },
  {
   "cell_type": "markdown",
   "metadata": {},
   "source": [
    " $$\\text{(c1)}\\;\\;\\;\\; \\sum_{j\\in N_i} x_j + y_i \\geq 1 \\text{, } \\; \\forall i \\in I $$"
   ]
  },
  {
   "cell_type": "markdown",
   "metadata": {},
   "source": [
    "$$\\text{(c2)}\\;\\;\\;\\; \\sum_{j\\in J} x_j = P $$ "
   ]
  },
  {
   "cell_type": "markdown",
   "metadata": {},
   "source": [
    "** this is the P facility constraint. (o2) with (c1) and (c2) is basically the max cover problem **"
   ]
  },
  {
   "cell_type": "markdown",
   "metadata": {},
   "source": [
    "$$\\text{(c3)}\\;\\;\\;\\; \\sum_{j\\in N_i} x_j + e_j \\geq 1 \\text{, } \\; \\forall i \\in I $$"
   ]
  },
  {
   "cell_type": "markdown",
   "metadata": {},
   "source": [
    " \\begin{equation}\n",
    "  \\text{(c4)}\\;\\;\\;\\; x_j=\\left\\{\n",
    "  \\begin{array}{@{}ll@{}}\n",
    "    0 & \\\\\n",
    "    1 &\n",
    "  \\end{array}\\right.\n",
    "\\end{equation} "
   ]
  },
  {
   "cell_type": "markdown",
   "metadata": {},
   "source": [
    " \\begin{equation}\n",
    "  \\text{(c5)}\\;\\;\\;\\; e_j=\\left\\{\n",
    "  \\begin{array}{@{}ll@{}}\n",
    "    0 & \\\\\n",
    "    1 &\n",
    "  \\end{array}\\right.\n",
    "\\end{equation} "
   ]
  },
  {
   "cell_type": "markdown",
   "metadata": {},
   "source": [
    " $$\\text{(c6)}\\;\\;\\;\\; y_i \\geq 0$$\n",
    "\n",
    " "
   ]
  },
  {
   "cell_type": "markdown",
   "metadata": {},
   "source": [
    "#### Unspecified,  but Implied"
   ]
  },
  {
   "cell_type": "markdown",
   "metadata": {},
   "source": [
    "$$ x_j + e_j \\text{ covers completely } \\forall i \\in I $$"
   ]
  },
  {
   "cell_type": "markdown",
   "metadata": {},
   "source": [
    "# Original Code - SCIP example"
   ]
  },
  {
   "cell_type": "code",
   "execution_count": 1,
   "metadata": {},
   "outputs": [],
   "source": [
    "from pyscipopt import Model, multidict, quicksum"
   ]
  },
  {
   "cell_type": "code",
   "execution_count": 2,
   "metadata": {},
   "outputs": [],
   "source": [
    "import networkx\n",
    "import matplotlib.pyplot as P"
   ]
  },
  {
   "cell_type": "code",
   "execution_count": 50,
   "metadata": {},
   "outputs": [],
   "source": [
    "from numpy import arange"
   ]
  },
  {
   "cell_type": "code",
   "execution_count": 216,
   "metadata": {},
   "outputs": [],
   "source": [
    "import cplex"
   ]
  },
  {
   "cell_type": "code",
   "execution_count": 3,
   "metadata": {},
   "outputs": [],
   "source": [
    "#sample code below is from scipbook docs on Facility Location Problems\n",
    "# http://scipbook.readthedocs.io/en/latest/flp.html"
   ]
  },
  {
   "cell_type": "markdown",
   "metadata": {},
   "source": [
    "### The following loop find the covering set N"
   ]
  },
  {
   "cell_type": "code",
   "execution_count": null,
   "metadata": {},
   "outputs": [],
   "source": []
  },
  {
   "cell_type": "code",
   "execution_count": 9,
   "metadata": {},
   "outputs": [],
   "source": [
    "from math import sqrt"
   ]
  },
  {
   "cell_type": "markdown",
   "metadata": {},
   "source": [
    "### lets try to alter this one piece at a time"
   ]
  },
  {
   "cell_type": "markdown",
   "metadata": {},
   "source": [
    "###### Note:\n",
    "Note that the x[i,j] var is CONTINOUS b/c its not explicitly restricted to being 0,1; i.e. it is a linear relaxation (and then we provide UB/ LBs for it)"
   ]
  },
  {
   "cell_type": "code",
   "execution_count": 366,
   "metadata": {},
   "outputs": [],
   "source": [
    "\n",
    "def flpo(I,J,d,M,c):\n",
    "    \"\"\"flp -- model for the capacitated facility location problem\n",
    "    Parameters:\n",
    "        - I: set of customers\n",
    "        - J: set of facilities\n",
    "        - d[i]: demand for customer i\n",
    "        - M[j]: capacity of facility j\n",
    "        - c[i,j]: unit cost of servicing demand point i from facility j\n",
    "    Returns a model, ready to be solved.\n",
    "    \"\"\"\n",
    "\n",
    "    model = Model(\"flp\")\n",
    "\n",
    "    x,y = {},{}\n",
    "    for j in J: # FACILITIES\n",
    "        x[j] = model.addVar(vtype=\"B\", name=\"y(%s)\"%j) \n",
    "    for i in I: # CUSTOMERS\n",
    "        y[i] = model.addVar(vtype=\"C\", name=\"x(%s)\"%i)\n",
    "\n",
    "    #for i in I:\n",
    "    #    model.addCons(quicksum(x[i,j] for j in J) == d[i], \"Demand(%s)\"%i)\n",
    "\n",
    "    #for j in M: # this is what keeps the uncapacitated problem from being too hard to solve (i.e. it is the strong formulation)\n",
    "    #    model.addCons(quicksum(x[i,j] for i in I) <= M[j]*y[j], \"Capacity(%s)\"%i)\n",
    "\n",
    "    #for (i,j) in x:\n",
    "    #    model.addCons(x[i,j] <= d[i]*y[j], \"Strong(%s,%s)\"%(i,j))\n",
    "\n",
    "    N= {1:[], 2:[2], 3:[2], 4:[1,3], 5:[3], 6:[2,3], 7:[1,2,3]}\n",
    "    \n",
    "    #ADDED\n",
    "    for i in I:\n",
    "        model.addCons(quicksum(x[j] for j in N[i])+y[i] >= 1)\n",
    "    \n",
    "    for i in I:\n",
    "        model.addCons(y[i] >= 0)\n",
    "    \n",
    "    P = 2\n",
    "    model.addCons(quicksum(x[j] for j in J) == P)\n",
    "    \n",
    "    model.setObjective(\n",
    "        #quicksum(f[j]*y[j] for j in J) +\n",
    "        #quicksum(c[i,j]*x[i,j] for i in I for j in J),\n",
    "        quicksum(y[i]*d[i] for i in I),\n",
    "        \"minimize\")\n",
    "    model.data = x,y\n",
    "\n",
    "    return model\n",
    "\n"
   ]
  },
  {
   "cell_type": "code",
   "execution_count": 367,
   "metadata": {},
   "outputs": [],
   "source": [
    "def make_datao():\n",
    "    I,d = multidict({1:12, 2:5, 3:6, 4:3, 5:9, 6:1, 7:10})            # demand\n",
    "    J,M = multidict({1:[500], 2:[500], 3:[500]}) # capacity, fixed costs\n",
    "    c = {(1,1):4,  (1,2):6,  (1,3):9,    # distance cost to get from demand point i to \n",
    "         (2,1):5,  (2,2):0.7,  (2,3):7,   # potl facility site j (i,j):distance\n",
    "         (3,1):6,  (3,2):3,  (3,3):4,\n",
    "         (4,1):0.5,  (4,2):5,  (4,3):3,\n",
    "         (5,1):10, (5,2):8,  (5,3):0.86,\n",
    "         (6,1):9,  (6,2):0.8,  (6,3):0.7,\n",
    "         (7,1):2.5,  (7,2):2.5,  (7,3):1.3,\n",
    "         }\n",
    "    return I,J,d,M,c\n"
   ]
  },
  {
   "cell_type": "code",
   "execution_count": 368,
   "metadata": {},
   "outputs": [
    {
     "name": "stdout",
     "output_type": "stream",
     "text": [
      "('Optimal value:', 12.0)\n",
      "('Facilities at nodes:', [2, 3])\n",
      "('Customers Covered:', [2, 3, 4, 5, 6, 7])\n",
      "1\n",
      "6\n"
     ]
    },
    {
     "data": {
      "image/png": "[encoded data removed]",
      "text/plain": [
       "<Figure size 432x288 with 1 Axes>"
      ]
     },
     "metadata": {},
     "output_type": "display_data"
    }
   ],
   "source": [
    "if __name__ == \"__main__\":\n",
    "    I,J,d,M,c = make_datao()\n",
    "    model = flpo(I,J,d,M,c)\n",
    "    model.hideOutput(quiet=False)\n",
    "    model.optimize()\n",
    "\n",
    "    EPS = 1.e-6\n",
    "    x,y = model.data\n",
    "    uncovered_customers = [i for i in y if model.getVal(y[i]) > EPS]\n",
    "    # ADDED:\n",
    "    # remember, we need to switch this b/c y==1 means its NOT covered in our model\n",
    "    covered_customers = [i for i in y if i not in uncovered_customers]\n",
    "    facilities = [j for j in x if model.getVal(x[j]) > EPS]\n",
    "\n",
    "    print(\"Optimal value:\", model.getObjVal())\n",
    "    print(\"Facilities at nodes:\", facilities)\n",
    "    print(\"Customers Covered:\", covered_customers)\n",
    "\n",
    "    # ADDED now alter this so that it connects customers to who they are covered by\n",
    "    try: # plot the result using networkx and matplotlib\n",
    "        import networkx as NX\n",
    "        import matplotlib.pyplot as P\n",
    "        P.clf()\n",
    "        G = NX.Graph()\n",
    "        \n",
    "        uncovered_customers = [i for i in y if i not in covered_customers]\n",
    "        other = [j for j in x if j not in facilities]\n",
    "        customers = [\"c%s\"%i for i in d]\n",
    "        G.add_nodes_from(facilities)\n",
    "        G.add_nodes_from(other)\n",
    "        G.add_nodes_from(customers)\n",
    "        for i in N:\n",
    "            to_nodes = N[i]\n",
    "            for n in to_nodes:\n",
    "                if n in facilities:\n",
    "                    G.add_edge(\"c%s\"%i,n)\n",
    "            \n",
    "        print len(uncovered_customers)\n",
    "        print len(covered_customers)\n",
    "        \n",
    "        position = NX.drawing.layout.spring_layout(G)\n",
    "        NX.draw(G,position,node_color=\"y\",nodelist=facilities, with_labels=True)\n",
    "        NX.draw(G,position,node_color=\"g\",nodelist=other, with_labels=True)\n",
    "        NX.draw(G,position,node_color=\"r\",nodelist=customers, with_labels=True)\n",
    "        P.show()\n",
    "    except ImportError:\n",
    "        print(\"install 'networkx' and 'matplotlib' for plotting\")"
   ]
  },
  {
   "cell_type": "code",
   "execution_count": 362,
   "metadata": {},
   "outputs": [
    {
     "name": "stdout",
     "output_type": "stream",
     "text": [
      "[1, 2, 3, 'c3', 'c2', 'c1', 'c7', 'c6', 'c5', 'c4']\n",
      "[(1, 'c7'), (1, 'c4'), (2, 'c3'), (2, 'c2'), (2, 'c7'), (2, 'c6'), (3, 'c7'), (3, 'c6'), (3, 'c5'), (3, 'c4')]\n"
     ]
    }
   ],
   "source": [
    "print G.nodes\n",
    "print G.edges"
   ]
  },
  {
   "cell_type": "code",
   "execution_count": 337,
   "metadata": {},
   "outputs": [
    {
     "name": "stdout",
     "output_type": "stream",
     "text": [
      "Expr({Term(): 0.0, Term(x(1)): 1.0})\n",
      "Expr({Term(): 0.0, Term(y(2)): 1.0, Term(x(2)): 1.0})\n",
      "Expr({Term(): 0.0, Term(y(2)): 1.0, Term(x(3)): 1.0})\n",
      "Expr({Term(): 0.0, Term(y(1)): 1.0, Term(y(3)): 1.0, Term(x(4)): 1.0})\n",
      "Expr({Term(): 0.0, Term(y(3)): 1.0, Term(x(5)): 1.0})\n",
      "Expr({Term(): 0.0, Term(y(2)): 1.0, Term(y(3)): 1.0, Term(x(6)): 1.0})\n",
      "Expr({Term(): 0.0, Term(y(1)): 1.0, Term(y(3)): 1.0, Term(y(2)): 1.0, Term(x(7)): 1.0})\n"
     ]
    }
   ],
   "source": [
    "N= {1:[], 2:[2], 3:[2], 4:[1,3], 5:[3], 6:[2,3], 7:[1,2,3]}\n",
    "\n",
    "for i in I:\n",
    "        print quicksum(x[j] for j in N[i])+y[i]\n",
    "    "
   ]
  },
  {
   "cell_type": "code",
   "execution_count": 332,
   "metadata": {},
   "outputs": [
    {
     "data": {
      "text/plain": [
       "[1, 2, 3]"
      ]
     },
     "execution_count": 332,
     "metadata": {},
     "output_type": "execute_result"
    }
   ],
   "source": [
    "N[6]"
   ]
  },
  {
   "cell_type": "code",
   "execution_count": 338,
   "metadata": {},
   "outputs": [
    {
     "name": "stdout",
     "output_type": "stream",
     "text": [
      "1\n",
      "[]\n",
      "2\n",
      "[2]\n",
      "3\n",
      "[2]\n",
      "4\n",
      "[1, 3]\n",
      "5\n",
      "[3]\n",
      "6\n",
      "[2, 3]\n",
      "7\n",
      "[1, 2, 3]\n"
     ]
    }
   ],
   "source": [
    "for i in I:\n",
    "    print i\n",
    "    print N[i]"
   ]
  },
  {
   "cell_type": "code",
   "execution_count": 334,
   "metadata": {},
   "outputs": [
    {
     "data": {
      "text/plain": [
       "x(7)"
      ]
     },
     "execution_count": 334,
     "metadata": {},
     "output_type": "execute_result"
    }
   ],
   "source": [
    "y[7]"
   ]
  },
  {
   "cell_type": "code",
   "execution_count": 353,
   "metadata": {},
   "outputs": [
    {
     "name": "stdout",
     "output_type": "stream",
     "text": [
      "['c1', 'c2', 'c3', 'c4', 'c5', 'c6', 'c7']\n"
     ]
    }
   ],
   "source": [
    "print [\"c%s\"%i for i in d]"
   ]
  },
  {
   "cell_type": "code",
   "execution_count": null,
   "metadata": {},
   "outputs": [],
   "source": []
  }
 ],
 "metadata": {
  "kernelspec": {
   "display_name": "mclpkernel",
   "language": "python",
   "name": "mclpkernel"
  },
  "language_info": {
   "codemirror_mode": {
    "name": "ipython",
    "version": 2
   },
   "file_extension": ".py",
   "mimetype": "text/x-python",
   "name": "python",
   "nbconvert_exporter": "python",
   "pygments_lexer": "ipython2",
   "version": "2.7.14"
  }
 },
 "nbformat": 4,
 "nbformat_minor": 2
}
