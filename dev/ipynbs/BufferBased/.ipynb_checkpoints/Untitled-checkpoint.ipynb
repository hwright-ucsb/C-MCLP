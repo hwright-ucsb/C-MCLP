{
 "cells": [
  {
   "cell_type": "markdown",
   "metadata": {},
   "source": [
    "###### Scraps"
   ]
  },
  {
   "cell_type": "markdown",
   "metadata": {},
   "source": [
    "$$ a_i = \\text{demand/weight/population at point } x_i $$"
   ]
  },
  {
   "cell_type": "markdown",
   "metadata": {},
   "source": [
    "$$ p = \\text{number of facilities to place}$$"
   ]
  },
  {
   "cell_type": "code",
   "execution_count": null,
   "metadata": {},
   "outputs": [],
   "source": []
  },
  {
   "cell_type": "code",
   "execution_count": null,
   "metadata": {},
   "outputs": [],
   "source": []
  },
  {
   "cell_type": "markdown",
   "metadata": {},
   "source": [
    "### Sets + Vars"
   ]
  },
  {
   "cell_type": "markdown",
   "metadata": {},
   "source": [
    "$$\n",
    "I = \\text{set of demand sites} \\\\\n",
    "    J = \\text{set of facility sites} \\\\\n",
    "    S_i = \\text{distance beyond which demand site }i\\text{ is considered uncovered} \\\\\n",
    "    d_{ij} = \\text{distance from demand site }i\\text{ to facility site }j \\\\\n",
    " a_i = \\text{demand/weight/population at point } x_i  \\\\\n",
    " p = \\text{number of facilities to place}\n",
    "$$\n",
    "\n",
    " "
   ]
  },
  {
   "cell_type": "markdown",
   "metadata": {},
   "source": [
    "- $N_i$ is the covering set of $i$\n",
    "- the set of $j$ that cover demand point $i$\n",
    "$$ N_i = \\{ \\, j \\in J \\, | \\, d_{ij} \\leq S_i \\} $$"
   ]
  },
  {
   "cell_type": "markdown",
   "metadata": {},
   "source": [
    "### Binary Varables"
   ]
  },
  {
   "cell_type": "markdown",
   "metadata": {},
   "source": [
    " \\begin{equation}\n",
    "  y_i=\\left\\{\n",
    "  \\begin{array}{@{}ll@{}}\n",
    "    1 & \\text{if demand site } i \\text{ is NOT covered}\\\\\n",
    "    0 & \\text{otherwise}\n",
    "  \\end{array}\\right.\n",
    "\\end{equation} \n"
   ]
  },
  {
   "cell_type": "markdown",
   "metadata": {},
   "source": [
    " \\begin{equation}\n",
    "   x_j=\\left\\{\n",
    "   \\begin{array}{@{}11@{}}\n",
    "     1 & \\text{if facility is placed at site } j \\\\\n",
    "     0 & \\text{if not}\n",
    "   \\end{array}\\right.\n",
    " \\end{equation}"
   ]
  },
  {
   "cell_type": "markdown",
   "metadata": {},
   "source": [
    "- number of facilities being added to the system as defined by $x_j$"
   ]
  },
  {
   "cell_type": "markdown",
   "metadata": {},
   "source": [
    " \\begin{equation}\n",
    "  e_j=\\left\\{\n",
    "  \\begin{array}{@{}ll@{}}\n",
    "    1 & \\text{if facility is NOT placed at site }j\\\\\n",
    "    0 & \\text{otherwise}\n",
    "  \\end{array}\\right.\n",
    "\\end{equation} \n"
   ]
  },
  {
   "cell_type": "code",
   "execution_count": null,
   "metadata": {},
   "outputs": [],
   "source": []
  },
  {
   "cell_type": "code",
   "execution_count": null,
   "metadata": {},
   "outputs": [],
   "source": []
  },
  {
   "cell_type": "code",
   "execution_count": null,
   "metadata": {},
   "outputs": [],
   "source": []
  },
  {
   "cell_type": "markdown",
   "metadata": {},
   "source": [
    "$$\\sum_{i\\in I} a_i = S $$"
   ]
  },
  {
   "cell_type": "markdown",
   "metadata": {},
   "source": [
    "$$\\sum_{j=0}^{J} x_j \\leq  p $$"
   ]
  },
  {
   "cell_type": "markdown",
   "metadata": {},
   "source": [
    "- minimize the amount of demand that is *not* covered (because $ y_i = 0 $ when it *is* covered)"
   ]
  },
  {
   "cell_type": "markdown",
   "metadata": {},
   "source": [
    "$$\\text{(o1)}\\;\\;\\;\\;  \\min \\sum_{i\\in I} y_i \\, a_i $$"
   ]
  },
  {
   "cell_type": "markdown",
   "metadata": {},
   "source": [
    "- minimize whatever you need to add to the cover to cover everything"
   ]
  },
  {
   "cell_type": "markdown",
   "metadata": {},
   "source": [
    "$$\\text{(o2)}\\;\\;\\;\\; \\min\\sum_{j\\in J} e_j $$"
   ]
  },
  {
   "cell_type": "markdown",
   "metadata": {},
   "source": [
    "### Constraints"
   ]
  },
  {
   "cell_type": "markdown",
   "metadata": {},
   "source": [
    " $$\\text{(c1)}\\;\\;\\;\\; \\sum_{j\\in N_i} x_j + y_i \\geq 1 \\text{, } \\; \\forall i \\in I $$"
   ]
  },
  {
   "cell_type": "markdown",
   "metadata": {},
   "source": [
    "$$\\text{(c2)}\\;\\;\\;\\; \\sum_{j\\in J} x_j = P $$ "
   ]
  },
  {
   "cell_type": "markdown",
   "metadata": {},
   "source": [
    "** this is the P facility constraint. (o2) with (c1) and (c2) is basically the max cover problem **"
   ]
  },
  {
   "cell_type": "markdown",
   "metadata": {},
   "source": [
    "$$\\text{(c3)}\\;\\;\\;\\; \\sum_{j\\in N_i} x_j + e_j \\geq 1 \\text{, } \\; \\forall i \\in I $$"
   ]
  },
  {
   "cell_type": "markdown",
   "metadata": {},
   "source": [
    " \\begin{equation}\n",
    "  \\text{(c4)}\\;\\;\\;\\; x_j=\\left\\{\n",
    "  \\begin{array}{@{}ll@{}}\n",
    "    0 & \\\\\n",
    "    1 &\n",
    "  \\end{array}\\right.\n",
    "\\end{equation} "
   ]
  },
  {
   "cell_type": "markdown",
   "metadata": {},
   "source": [
    " \\begin{equation}\n",
    "  \\text{(c5)}\\;\\;\\;\\; e_j=\\left\\{\n",
    "  \\begin{array}{@{}ll@{}}\n",
    "    0 & \\\\\n",
    "    1 &\n",
    "  \\end{array}\\right.\n",
    "\\end{equation} "
   ]
  },
  {
   "cell_type": "markdown",
   "metadata": {},
   "source": [
    " $$\\text{(c6)}\\;\\;\\;\\; y_i \\geq 0$$\n",
    "\n",
    " "
   ]
  },
  {
   "cell_type": "markdown",
   "metadata": {},
   "source": [
    "#### Unspecified,  but Implied"
   ]
  },
  {
   "cell_type": "markdown",
   "metadata": {},
   "source": [
    "$$ x_j + e_j \\text{ covers completely } \\forall i \\in I $$"
   ]
  },
  {
   "cell_type": "code",
   "execution_count": 20,
   "metadata": {},
   "outputs": [],
   "source": [
    "from pyscipopt import Model, multidict, quicksum"
   ]
  },
  {
   "cell_type": "code",
   "execution_count": 27,
   "metadata": {},
   "outputs": [],
   "source": [
    "import networkx\n",
    "import matplotlib.pyplot as P"
   ]
  },
  {
   "cell_type": "code",
   "execution_count": 5,
   "metadata": {},
   "outputs": [],
   "source": [
    "#sample code below is from scipbook docs on Facility Location Problems\n",
    "# http://scipbook.readthedocs.io/en/latest/flp.html"
   ]
  },
  {
   "cell_type": "code",
   "execution_count": null,
   "metadata": {},
   "outputs": [],
   "source": []
  },
  {
   "cell_type": "code",
   "execution_count": 74,
   "metadata": {},
   "outputs": [],
   "source": [
    "# specify the data\n",
    "def make_data():\n",
    "    I,d = multidict({0:12, 1:5, 2:6})            # demand\n",
    "    J,M,f = multidict({0:[100, 0], 1:[100,0], 2:[100,0], 3:[100,0], 4:[100,0], 5:[100,0], 6:[100,0]}) # capacity, fixed costs\n",
    "    N = multidict({0:[0,3], 1:[1,5], 2:[4,7]}) #in practice this would be generated according to distance\n",
    "    c = {(0,0):4,  (0,1):6,  (0,2):9,    # distance from demand pt i to site j\n",
    "         (1,0):5,  (1,1):0.7,  (1,2):7,\n",
    "         (2,0):6,  (2,1):3,  (2,2):4,\n",
    "         (3,0):0.5,  (3,1):5,  (3,2):3,\n",
    "         (4,0):10, (4,1):8,  (4,2):0.86,\n",
    "         (5,0):9, (5,1):0.8, (5,2):0.7,\n",
    "         (6,0):2.5, (6,1):2.5, (6,2):1.3,\n",
    "         }\n",
    "    return I,J,d,M,f,N,c\n",
    "\n"
   ]
  },
  {
   "cell_type": "code",
   "execution_count": 75,
   "metadata": {},
   "outputs": [],
   "source": [
    "# model --> algorithm : \n",
    "\n",
    "def flp(I,J,d,M,f,N,c):\n",
    "    \"\"\"flp -- model for the capacitated facility location problem\n",
    "    Parameters:\n",
    "        - I: set of customers\n",
    "        - J: set of facilities\n",
    "        - d[i]: demand for customer i\n",
    "        - M[j]: capacity of facility j\n",
    "        - f[j]: fixed cost for using a facility in point j\n",
    "        - N[i]: set of j s.t. site j covers demand pt i\n",
    "        - c[i,j]: unit cost of servicing demand point i from facility j (in our case, distance..\n",
    "        )\n",
    "    Returns a model, ready to be solved.\n",
    "    \"\"\"\n",
    "\n",
    "    model = Model(\"flp\")\n",
    "    x,y,e = {},{},{}\n",
    "    for i in I:\n",
    "        y[i] = model.addVar(vtype=\"B\", name=\"y(%s)\"%i)\n",
    "    for j in J:\n",
    "        x[j] = model.addVar(vtype=\"B\", name=\"x(%s)\"%j)\n",
    "        e[j] = model.addVar(vtype=\"B\", name=\"e(%s)\"%j)\n",
    "    #for j in J:\n",
    "\n",
    "    print len(N)\n",
    "    print len(y)\n",
    "    print len(I)\n",
    "    for i in I:\n",
    "        print i\n",
    "        model.addCons(x[i]+quicksum(y[j] for j in N[i]) >= 1, \"Coverage Constraint(%s)\"%i)\n",
    "\n",
    "    #we'll set p=2 here\n",
    "    p=1\n",
    "    model.addCons(quicksum(x[j] for j in x) == p, \"P-facility constraint(%s)\"%p)\n",
    "\n",
    "    for i in I:\n",
    "        model.addCons(y[i] >= 0, \"LB on Y_i (%s)\"%i)\n",
    "        #model.addCons(x[i,j] <= d[i]*y[j], \"Strong(%s,%s)\"%(i,j))\n",
    "\n",
    "    model.setObjective(\n",
    "        quicksum(y[i]*d[i] for i in I),\n",
    "        #quicksum(f[j]*y[j] for j in J) +\n",
    "        #quicksum(c[i,j]*x[i,j] for i in I for j in J),\n",
    "        \"maximize\")\n",
    "    model.data = x,y\n",
    "\n",
    "    return model\n"
   ]
  },
  {
   "cell_type": "code",
   "execution_count": 76,
   "metadata": {},
   "outputs": [
    {
     "name": "stdout",
     "output_type": "stream",
     "text": [
      "3\n",
      "3\n",
      "3\n",
      "0\n",
      "1\n",
      "2\n",
      "('Optimal value:', 23.0)\n",
      "('Facilities at nodes:', [0, 1, 2])\n",
      "('Edges:', [0])\n"
     ]
    },
    {
     "ename": "TypeError",
     "evalue": "'int' object is not iterable",
     "output_type": "error",
     "traceback": [
      "\u001b[0;31m---------------------------------------------------------------------------\u001b[0m",
      "\u001b[0;31mTypeError\u001b[0m                                 Traceback (most recent call last)",
      "\u001b[0;32m<ipython-input-76-e81e78d1e54e>\u001b[0m in \u001b[0;36m<module>\u001b[0;34m()\u001b[0m\n\u001b[1;32m     25\u001b[0m         \u001b[0mG\u001b[0m\u001b[0;34m.\u001b[0m\u001b[0madd_nodes_from\u001b[0m\u001b[0;34m(\u001b[0m\u001b[0mother\u001b[0m\u001b[0;34m)\u001b[0m\u001b[0;34m\u001b[0m\u001b[0m\n\u001b[1;32m     26\u001b[0m         \u001b[0mG\u001b[0m\u001b[0;34m.\u001b[0m\u001b[0madd_nodes_from\u001b[0m\u001b[0;34m(\u001b[0m\u001b[0mcustomers\u001b[0m\u001b[0;34m)\u001b[0m\u001b[0;34m\u001b[0m\u001b[0m\n\u001b[0;32m---> 27\u001b[0;31m         \u001b[0;32mfor\u001b[0m \u001b[0;34m(\u001b[0m\u001b[0mi\u001b[0m\u001b[0;34m,\u001b[0m\u001b[0mj\u001b[0m\u001b[0;34m)\u001b[0m \u001b[0;32min\u001b[0m \u001b[0medges\u001b[0m\u001b[0;34m:\u001b[0m\u001b[0;34m\u001b[0m\u001b[0m\n\u001b[0m\u001b[1;32m     28\u001b[0m             \u001b[0mG\u001b[0m\u001b[0;34m.\u001b[0m\u001b[0madd_edge\u001b[0m\u001b[0;34m(\u001b[0m\u001b[0;34m\"c%s\"\u001b[0m\u001b[0;34m%\u001b[0m\u001b[0mi\u001b[0m\u001b[0;34m,\u001b[0m\u001b[0mj\u001b[0m\u001b[0;34m)\u001b[0m\u001b[0;34m\u001b[0m\u001b[0m\n\u001b[1;32m     29\u001b[0m \u001b[0;34m\u001b[0m\u001b[0m\n",
      "\u001b[0;31mTypeError\u001b[0m: 'int' object is not iterable"
     ]
    },
    {
     "data": {
      "text/plain": [
       "<Figure size 432x288 with 0 Axes>"
      ]
     },
     "metadata": {},
     "output_type": "display_data"
    }
   ],
   "source": [
    "if __name__ == \"__main__\":\n",
    "    I,J,d,M,f,N,c = make_data()\n",
    "    model = flp(I,J,d,M,f,N,c)\n",
    "    model.hideOutput(quiet=False) #verbose mode\n",
    "    model.optimize()\n",
    "\n",
    "    EPS = 1.e-6\n",
    "    x,y = model.data\n",
    "    edges = [j for j in x if model.getVal(x[j]) > EPS]\n",
    "    facilities = [i for i in y if model.getVal(y[i]) > EPS]\n",
    "\n",
    "    print(\"Optimal value:\", model.getObjVal())\n",
    "    print(\"Facilities at nodes:\", facilities)\n",
    "    print(\"Edges:\", edges)\n",
    "\n",
    "    try: # plot the result using networkx and matplotlib\n",
    "        import networkx as NX\n",
    "        import matplotlib.pyplot as P\n",
    "        P.clf()\n",
    "        G = NX.Graph()\n",
    "\n",
    "        other = [i for i in y if i not in facilities]\n",
    "        customers = [\"c%s\"%j for j in d]\n",
    "        G.add_nodes_from(facilities)\n",
    "        G.add_nodes_from(other)\n",
    "        G.add_nodes_from(customers)\n",
    "        for (i,j) in edges:\n",
    "            G.add_edge(\"c%s\"%i,j)\n",
    "\n",
    "        position = NX.drawing.layout.spring_layout(G)\n",
    "        NX.draw(G,position,node_color=\"y\",nodelist=facilities)\n",
    "        NX.draw(G,position,node_color=\"g\",nodelist=other)\n",
    "        NX.draw(G,position,node_color=\"b\",nodelist=customers)\n",
    "        P.show()\n",
    "    except ImportError:\n",
    "        print(\"install 'networkx' and 'matplotlib' for plotting\")"
   ]
  },
  {
   "cell_type": "code",
   "execution_count": 66,
   "metadata": {},
   "outputs": [
    {
     "name": "stdout",
     "output_type": "stream",
     "text": [
      "Coverage Constraint 0\n",
      "x(0)Expr({Term(): 0.0, Term(y(0)): 1.0, Term(y(2)): 1.0, Term(y(1)): 1.0})>= 1\n",
      "Coverage Constraint 1\n",
      "x(1)Expr({Term(): 0.0, Term(y(0)): 1.0, Term(y(2)): 1.0, Term(y(1)): 1.0})>= 1\n",
      "Coverage Constraint 2\n",
      "x(2)Expr({Term(): 0.0, Term(y(0)): 1.0, Term(y(2)): 1.0, Term(y(1)): 1.0})>= 1\n"
     ]
    }
   ],
   "source": [
    "for i in I:\n",
    "    print \"Coverage Constraint \"+str(i)\n",
    "    print str(x[i])+str(quicksum(y[j] for j in N[i]))+ \">= 1\"\n"
   ]
  },
  {
   "cell_type": "code",
   "execution_count": 67,
   "metadata": {},
   "outputs": [
    {
     "name": "stdout",
     "output_type": "stream",
     "text": [
      "{0: x(0), 1: x(1), 2: x(2), 3: x(3), 4: x(4), 5: x(5), 6: x(6)}\n"
     ]
    }
   ],
   "source": [
    "print x"
   ]
  },
  {
   "cell_type": "code",
   "execution_count": null,
   "metadata": {},
   "outputs": [],
   "source": []
  },
  {
   "cell_type": "code",
   "execution_count": 29,
   "metadata": {},
   "outputs": [],
   "source": [
    "from math import sqrt"
   ]
  },
  {
   "cell_type": "code",
   "execution_count": 32,
   "metadata": {},
   "outputs": [
    {
     "data": {
      "text/plain": [
       "0.8660254037844386"
      ]
     },
     "execution_count": 32,
     "metadata": {},
     "output_type": "execute_result"
    }
   ],
   "source": []
  },
  {
   "cell_type": "code",
   "execution_count": null,
   "metadata": {},
   "outputs": [],
   "source": []
  }
 ],
 "metadata": {
  "kernelspec": {
   "display_name": "mclpkernel",
   "language": "python",
   "name": "mclpkernel"
  },
  "language_info": {
   "codemirror_mode": {
    "name": "ipython",
    "version": 2
   },
   "file_extension": ".py",
   "mimetype": "text/x-python",
   "name": "python",
   "nbconvert_exporter": "python",
   "pygments_lexer": "ipython2",
   "version": "2.7.14"
  }
 },
 "nbformat": 4,
 "nbformat_minor": 2
}
