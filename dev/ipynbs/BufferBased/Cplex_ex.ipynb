{
 "cells": [
  {
   "cell_type": "markdown",
   "metadata": {},
   "source": [
    "The following code was modified from https://gist.github.com/WPettersson/287de1e739d4d7869d555fd28ac587cf"
   ]
  },
  {
   "cell_type": "code",
   "execution_count": 1,
   "metadata": {},
   "outputs": [],
   "source": [
    "import cplex"
   ]
  },
  {
   "cell_type": "code",
   "execution_count": 2,
   "metadata": {},
   "outputs": [],
   "source": [
    "problem = cplex.Cplex()"
   ]
  },
  {
   "cell_type": "code",
   "execution_count": 3,
   "metadata": {},
   "outputs": [],
   "source": [
    "problem.objective.set_sense(problem.objective.sense.maximize)"
   ]
  },
  {
   "cell_type": "markdown",
   "metadata": {},
   "source": [
    "# original code + problem"
   ]
  },
  {
   "cell_type": "code",
   "execution_count": 4,
   "metadata": {},
   "outputs": [
    {
     "name": "stdout",
     "output_type": "stream",
     "text": [
      "CPXPARAM_Read_DataCheck                          1\n",
      "Tried aggregator 1 time.\n",
      "No LP presolve or aggregator reductions.\n",
      "Presolve time = 0.01 sec. (0.00 ticks)\n",
      "\n",
      "Iteration log . . .\n",
      "Iteration:     1   Dual objective     =           266.666667\n",
      "[30.666666666666668, 0.0, 17.0]\n"
     ]
    }
   ],
   "source": [
    "# The names of our variables\n",
    "names = [\"x\", \"y\", \"z\"]\n",
    "\n",
    "# The obective function. More precisely, the coefficients of the objective\n",
    "# function. Note that we are casting to floats.\n",
    "objective = [5.0, 2.0, -1.0]\n",
    "\n",
    "# Lower bounds. Since these are all zero, we could simply not pass them in as\n",
    "# all zeroes is the default.\n",
    "lower_bounds = [0.0, 0.0, 0.0]\n",
    "\n",
    "# Upper bounds. The default here would be cplex.infinity, or 1e+20.\n",
    "upper_bounds = [100, 1000, cplex.infinity]\n",
    "\n",
    "problem.variables.add(obj = objective,\n",
    "                      lb = lower_bounds,\n",
    "                      ub = upper_bounds,\n",
    "                      names = names)\n",
    "\n",
    "# Constraints\n",
    "\n",
    "# Constraints are entered in two parts, as a left hand part and a right hand\n",
    "# part. Most times, these will be represented as matrices in your problem. In\n",
    "# our case, we have \"3x + y - z ≤ 75\" and \"3x + 4y + 4z ≤ 160\" which we can\n",
    "# write as matrices as follows:\n",
    "\n",
    "# [  3   1  -1 ]   [ x ]   [  75 ]\n",
    "# [  3   4   4 ]   [ y ] ≤ [ 160 ]\n",
    "#                  [ z ]\n",
    "\n",
    "# First, we name the constraints\n",
    "constraint_names = [\"c1\", \"c2\"]\n",
    "\n",
    "# The actual constraints are now added. Each constraint is actually a list\n",
    "# consisting of two objects, each of which are themselves lists. The first list\n",
    "# represents each of the variables in the constraint, and the second list is the\n",
    "# coefficient of the respective variable. Data is entered in this way as the\n",
    "# constraints matrix is often sparse.\n",
    "\n",
    "# The first constraint is entered by referring to each variable by its name\n",
    "# (which we defined earlier). This then represents \"3x + y - z\"\n",
    "first_constraint = [[\"x\", \"y\", \"z\"], [3.0, 1.0, -1.0]]\n",
    "# In this second constraint, we refer to the variables by their indices. Since\n",
    "# \"x\" was the first variable we added, \"y\" the second and \"z\" the third, this\n",
    "# then represents 3x + 4y + 4z\n",
    "second_constraint = [[0, 1, 2], [3.0, 4.0, 4.0]]\n",
    "constraints = [ first_constraint, second_constraint ]\n",
    "\n",
    "# So far we haven't added a right hand side, so we do that now. Note that the\n",
    "# first entry in this list corresponds to the first constraint, and so-on.\n",
    "rhs = [75.0, 160.0]\n",
    "\n",
    "# We need to enter the senses of the constraints. That is, we need to tell Cplex\n",
    "# whether each constrains should be treated as an upper-limit (≤, denoted \"L\"\n",
    "# for less-than), a lower limit (≥, denoted \"G\" for greater than) or an equality\n",
    "# (=, denoted \"E\" for equality)\n",
    "constraint_senses = [ \"L\", \"L\" ]\n",
    "\n",
    "# Note that we can actually set senses as a string. That is, we could also use\n",
    "#     constraint_senses = \"LL\"\n",
    "# to pass in our constraints\n",
    "\n",
    "# And add the constraints\n",
    "problem.linear_constraints.add(lin_expr = constraints,\n",
    "                               senses = constraint_senses,\n",
    "                               rhs = rhs,\n",
    "                               names = constraint_names)\n",
    "\n",
    "# Solve the problem\n",
    "problem.solve()\n",
    "\n",
    "# And print the solutions\n",
    "print(problem.solution.get_values())"
   ]
  },
  {
   "cell_type": "code",
   "execution_count": null,
   "metadata": {},
   "outputs": [],
   "source": []
  },
  {
   "cell_type": "code",
   "execution_count": 5,
   "metadata": {},
   "outputs": [
    {
     "data": {
      "text/plain": [
       "[None, None, None, None, None, None, None, None, None, None]"
      ]
     },
     "execution_count": 5,
     "metadata": {},
     "output_type": "execute_result"
    }
   ],
   "source": [
    "[None] * 10"
   ]
  },
  {
   "cell_type": "code",
   "execution_count": 6,
   "metadata": {},
   "outputs": [
    {
     "data": {
      "text/plain": [
       "NoneType"
      ]
     },
     "execution_count": 6,
     "metadata": {},
     "output_type": "execute_result"
    }
   ],
   "source": [
    "type(None)"
   ]
  },
  {
   "cell_type": "code",
   "execution_count": 7,
   "metadata": {},
   "outputs": [
    {
     "data": {
      "text/plain": [
       "[0, 0, 0, 0, 0, 0, 0, 0, 0, 0]"
      ]
     },
     "execution_count": 7,
     "metadata": {},
     "output_type": "execute_result"
    }
   ],
   "source": [
    "[0] * 10"
   ]
  },
  {
   "cell_type": "code",
   "execution_count": 8,
   "metadata": {},
   "outputs": [],
   "source": [
    "\n",
    "    # Create variables. We have variables\n",
    "    # open_[j]        if location j is open.\n",
    "    # supply[i][j]]   how much client i is supplied from location j"
   ]
  },
  {
   "cell_type": "code",
   "execution_count": null,
   "metadata": {},
   "outputs": [],
   "source": []
  }
 ],
 "metadata": {
  "kernelspec": {
   "display_name": "mclpkernel",
   "language": "python",
   "name": "mclpkernel"
  },
  "language_info": {
   "codemirror_mode": {
    "name": "ipython",
    "version": 2
   },
   "file_extension": ".py",
   "mimetype": "text/x-python",
   "name": "python",
   "nbconvert_exporter": "python",
   "pygments_lexer": "ipython2",
   "version": "2.7.14"
  }
 },
 "nbformat": 4,
 "nbformat_minor": 2
}
