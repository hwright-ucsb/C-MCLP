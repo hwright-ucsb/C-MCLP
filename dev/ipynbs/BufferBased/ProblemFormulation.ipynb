{
 "cells": [
  {
   "cell_type": "markdown",
   "metadata": {},
   "source": [
    "###### Scraps"
   ]
  },
  {
   "cell_type": "markdown",
   "metadata": {},
   "source": [
    "$$ a_i = \\text{demand/weight/population at point } x_i $$"
   ]
  },
  {
   "cell_type": "markdown",
   "metadata": {},
   "source": [
    "$$ p = \\text{number of facilities to place}$$"
   ]
  },
  {
   "cell_type": "code",
   "execution_count": null,
   "metadata": {},
   "outputs": [],
   "source": []
  },
  {
   "cell_type": "markdown",
   "metadata": {},
   "source": [
    "$$\n",
    "I = \\text{set of demand sites} \\\\\n",
    "    J = \\text{set of facility sites} \\\\\n",
    "    S_i = \\text{distance beyond which demand site }i\\text{ is considered uncovered} \\\\\n",
    "    d_{ij} = \\text{distance from demand site }i\\text{ to facility site }j \\\\\n",
    " a_i = \\text{demand/weight/population at point } x_i  \\\\\n",
    " p = \\text{number of facilities to place}\n",
    "$$\n",
    "\n",
    " "
   ]
  },
  {
   "cell_type": "code",
   "execution_count": null,
   "metadata": {},
   "outputs": [],
   "source": []
  },
  {
   "cell_type": "markdown",
   "metadata": {},
   "source": [
    " \\begin{equation}\n",
    "  y_i=\\left\\{\n",
    "  \\begin{array}{@{}ll@{}}\n",
    "    1 & \\text{if demand site } i \\text{ is NOT covered}\\\\\n",
    "    0 & \\text{otherwise}\n",
    "  \\end{array}\\right.\n",
    "\\end{equation} \n"
   ]
  },
  {
   "cell_type": "markdown",
   "metadata": {},
   "source": [
    " \\begin{equation}\n",
    "   x_j=\\left\\{\n",
    "   \\begin{array}{@{}11@{}}\n",
    "     1 & \\text{if facility is placed at site } j \\\\\n",
    "     0 & \\text{if not}\n",
    "   \\end{array}\\right.\n",
    " \\end{equation}"
   ]
  },
  {
   "cell_type": "markdown",
   "metadata": {},
   "source": [
    "- number of facilities being added to the system as defined by $x_j$"
   ]
  },
  {
   "cell_type": "markdown",
   "metadata": {},
   "source": [
    " \\begin{equation}\n",
    "  e_j=\\left\\{\n",
    "  \\begin{array}{@{}ll@{}}\n",
    "    1 & \\text{if facility is NOT placed at site }j\\\\\n",
    "    0 & \\text{otherwise}\n",
    "  \\end{array}\\right.\n",
    "\\end{equation} \n"
   ]
  },
  {
   "cell_type": "code",
   "execution_count": null,
   "metadata": {},
   "outputs": [],
   "source": []
  },
  {
   "cell_type": "code",
   "execution_count": null,
   "metadata": {},
   "outputs": [],
   "source": []
  },
  {
   "cell_type": "code",
   "execution_count": null,
   "metadata": {},
   "outputs": [],
   "source": []
  },
  {
   "cell_type": "code",
   "execution_count": null,
   "metadata": {},
   "outputs": [],
   "source": []
  },
  {
   "cell_type": "markdown",
   "metadata": {},
   "source": [
    "### Sets + Vars"
   ]
  },
  {
   "cell_type": "markdown",
   "metadata": {},
   "source": [
    " $$ I = \\text{set of demand sites} \\\\ $$\n",
    "  $$  J = \\text{set of facility sites} \\\\ $$\n",
    "   $$ S_i = \\text{distance beyond which demand site }i\\text{ is considered uncovered} \\\\ $$\n",
    "   $$ d_{ij} = \\text{distance from demand site }i\\text{ to facility site }j \\\\ $$\n",
    " $$a_i = \\text{demand/weight/population at point } x_i  \\\\ $$\n",
    " $$p = \\text{number of facilities to place} $$"
   ]
  },
  {
   "cell_type": "markdown",
   "metadata": {},
   "source": [
    "- $N_i$ is the covering set of $i$\n",
    "- the set of $j$ that cover demand point $i$\n",
    "$$ N_i = \\{ \\, j \\in J \\, | \\, d_{ij} \\leq S_i \\} $$"
   ]
  },
  {
   "cell_type": "markdown",
   "metadata": {},
   "source": [
    "### Binary Varables"
   ]
  },
  {
   "cell_type": "markdown",
   "metadata": {},
   "source": [
    " $$y_i = 1 \\text{ if site i NOT covered, }0\\text{ otherwise}$$\n",
    " $$x_j = 1 \\text{ if facility placed at j, 0 otherwise}$$\n",
    " $$e_j = 1 \\text{ if facility NOT placed at j, 0 otherwise}$$"
   ]
  },
  {
   "cell_type": "code",
   "execution_count": null,
   "metadata": {},
   "outputs": [],
   "source": []
  },
  {
   "cell_type": "code",
   "execution_count": null,
   "metadata": {},
   "outputs": [],
   "source": []
  },
  {
   "cell_type": "markdown",
   "metadata": {},
   "source": [
    "$$\\sum_{i\\in I} a_i = S $$"
   ]
  },
  {
   "cell_type": "markdown",
   "metadata": {},
   "source": [
    "$$\\sum_{j=0}^{J} x_j \\leq  p $$"
   ]
  },
  {
   "cell_type": "markdown",
   "metadata": {},
   "source": [
    "- minimize the amount of demand that is *not* covered (because $ y_i = 0 $ when it *is* covered)"
   ]
  },
  {
   "cell_type": "markdown",
   "metadata": {},
   "source": [
    "$$\\text{(o1)}\\;\\;\\;\\;  \\min \\sum_{i\\in I} y_i \\, a_i $$"
   ]
  },
  {
   "cell_type": "markdown",
   "metadata": {},
   "source": [
    "- minimize whatever you need to add to the cover to cover everything"
   ]
  },
  {
   "cell_type": "markdown",
   "metadata": {},
   "source": [
    "$$\\text{(o2)}\\;\\;\\;\\; \\min\\sum_{j\\in J} e_j $$"
   ]
  },
  {
   "cell_type": "markdown",
   "metadata": {},
   "source": [
    "### Constraints"
   ]
  },
  {
   "cell_type": "markdown",
   "metadata": {},
   "source": [
    " $$\\text{(c1)}\\;\\;\\;\\; \\sum_{j\\in N_i} x_j + y_i \\geq 1 \\text{, } \\; \\forall i \\in I $$"
   ]
  },
  {
   "cell_type": "markdown",
   "metadata": {},
   "source": [
    "$$\\text{(c2)}\\;\\;\\;\\; \\sum_{j\\in J} x_j = P $$ "
   ]
  },
  {
   "cell_type": "markdown",
   "metadata": {},
   "source": [
    "** this is the P facility constraint. (o2) with (c1) and (c2) is basically the max cover problem **"
   ]
  },
  {
   "cell_type": "markdown",
   "metadata": {},
   "source": [
    "$$\\text{(c3)}\\;\\;\\;\\; \\sum_{j\\in N_i} x_j + e_j \\geq 1 \\text{, } \\; \\forall i \\in I $$"
   ]
  },
  {
   "cell_type": "markdown",
   "metadata": {},
   "source": [
    " \\begin{equation}\n",
    "  \\text{(c4)}\\;\\;\\;\\; x_j=\\left\\{\n",
    "  \\begin{array}{@{}ll@{}}\n",
    "    0 & \\\\\n",
    "    1 &\n",
    "  \\end{array}\\right.\n",
    "\\end{equation} "
   ]
  },
  {
   "cell_type": "markdown",
   "metadata": {},
   "source": [
    " \\begin{equation}\n",
    "  \\text{(c5)}\\;\\;\\;\\; e_j=\\left\\{\n",
    "  \\begin{array}{@{}ll@{}}\n",
    "    0 & \\\\\n",
    "    1 &\n",
    "  \\end{array}\\right.\n",
    "\\end{equation} "
   ]
  },
  {
   "cell_type": "markdown",
   "metadata": {},
   "source": [
    " $$\\text{(c6)}\\;\\;\\;\\; y_i \\geq 0$$\n",
    "\n",
    " "
   ]
  },
  {
   "cell_type": "markdown",
   "metadata": {},
   "source": [
    "#### Unspecified,  but Implied"
   ]
  },
  {
   "cell_type": "markdown",
   "metadata": {},
   "source": [
    "$$ x_j + e_j \\text{ covers completely } \\forall i \\in I $$"
   ]
  },
  {
   "cell_type": "code",
   "execution_count": 1,
   "metadata": {},
   "outputs": [],
   "source": [
    "from pyscipopt import Model, multidict, quicksum"
   ]
  },
  {
   "cell_type": "code",
   "execution_count": 2,
   "metadata": {},
   "outputs": [],
   "source": [
    "import networkx\n",
    "import matplotlib.pyplot as P"
   ]
  },
  {
   "cell_type": "code",
   "execution_count": 50,
   "metadata": {},
   "outputs": [],
   "source": [
    "from numpy import arange"
   ]
  },
  {
   "cell_type": "code",
   "execution_count": 216,
   "metadata": {},
   "outputs": [],
   "source": [
    "import cplex"
   ]
  },
  {
   "cell_type": "code",
   "execution_count": 3,
   "metadata": {},
   "outputs": [],
   "source": [
    "#sample code below is from scipbook docs on Facility Location Problems\n",
    "# http://scipbook.readthedocs.io/en/latest/flp.html"
   ]
  },
  {
   "cell_type": "markdown",
   "metadata": {},
   "source": [
    "### The following loop find the covering set N"
   ]
  },
  {
   "cell_type": "code",
   "execution_count": 153,
   "metadata": {},
   "outputs": [
    {
     "name": "stdout",
     "output_type": "stream",
     "text": [
      "6\n",
      "3\n",
      "0.7\n",
      "6\n",
      "2\n",
      "0.8\n",
      "2\n",
      "2\n",
      "0.7\n",
      "4\n",
      "1\n",
      "0.5\n",
      "5\n",
      "3\n",
      "0.86\n",
      "{1: [4], 2: [6, 2], 3: [6, 5]}\n"
     ]
    }
   ],
   "source": [
    "tempn = {}\n",
    "for key, item in c.iteritems():\n",
    "\n",
    "    if item < 1.0:\n",
    "        print key[0]\n",
    "        print key[1]\n",
    "        print item\n",
    "        if key[1] in tempn.keys():\n",
    "            tempn[key[1]].append(key[0])\n",
    "        else:\n",
    "            tempn[key[1]] = [key[0]]\n",
    "            \n",
    "print tempn"
   ]
  },
  {
   "cell_type": "markdown",
   "metadata": {},
   "source": [
    "### let's try populating the covering set with the pop's as keys and the lists as the sites that cover it"
   ]
  },
  {
   "cell_type": "code",
   "execution_count": 148,
   "metadata": {},
   "outputs": [
    {
     "name": "stdout",
     "output_type": "stream",
     "text": [
      "6\n",
      "3\n",
      "0.7\n",
      "6\n",
      "2\n",
      "0.8\n",
      "2\n",
      "2\n",
      "0.7\n",
      "4\n",
      "1\n",
      "0.5\n",
      "5\n",
      "3\n",
      "0.86\n",
      "{1: [], 2: [2], 3: [], 4: [1], 5: [3], 6: [3, 2], 7: []}\n"
     ]
    }
   ],
   "source": [
    "tempn1 = {}\n",
    "for key, item in c.iteritems():\n",
    "\n",
    "    if item < 1.0:\n",
    "        print key[0]\n",
    "        print key[1]\n",
    "        print item\n",
    "        if key[0] in tempn1.keys():\n",
    "            tempn1[key[0]].append(key[1])\n",
    "        else:\n",
    "            tempn1[key[0]] = [key[1]]\n",
    "    else:\n",
    "        tempn1[key[0]] = []#[0]\n",
    "            \n",
    "print tempn1"
   ]
  },
  {
   "cell_type": "code",
   "execution_count": 233,
   "metadata": {},
   "outputs": [],
   "source": [
    "dsums = {}\n",
    "for key, item in c.iteritems():\n",
    "\n",
    "    if item < 1.0:\n",
    "        if key[0] in dsums.keys():\n",
    "            dsums[key[1]] += d[key[0]]\n",
    "        else:\n",
    "            dsums[key[1]] = d[key[0]]\n",
    "        "
   ]
  },
  {
   "cell_type": "code",
   "execution_count": 234,
   "metadata": {},
   "outputs": [
    {
     "name": "stdout",
     "output_type": "stream",
     "text": [
      "{1: 3, 2: 6, 3: 9}\n"
     ]
    }
   ],
   "source": [
    "print dsums"
   ]
  },
  {
   "cell_type": "code",
   "execution_count": 245,
   "metadata": {},
   "outputs": [],
   "source": [
    "# specify the data\n",
    "def make_data():\n",
    "    I,d = multidict({1:12, 2:5, 3:6, 4:3, 5:9, 6:1, 7:10})   # demand pt IDS, demand\n",
    "    J = arange(1,3+1,1)                        #potential facility site ID\n",
    "   # N = multidict({1:[1,4], 2:[2,6], 3:[5,7]}) #in practice this would be generated according to distance\n",
    "    c = {(1,1):4,  (1,2):6,  (1,3):9,    # distance from demand pt i to site j\n",
    "         (2,1):5,  (2,2):0.7,  (2,3):7,\n",
    "         (3,1):6,  (3,2):3,  (3,3):4,\n",
    "         (4,1):0.5,  (4,2):5,  (4,3):3,\n",
    "         (5,1):10, (5,2):8,  (5,3):0.86,\n",
    "         (6,1):9, (6,2):0.8, (6,3):0.7,\n",
    "         (7,1):2.5, (7,2):2.5, (7,3):1.3,\n",
    "         }\n",
    "\n",
    "    tempn = {}\n",
    "#    for key, item in c.iteritems():\n",
    "#        if item < 1.0:\n",
    "#            print key[0]\n",
    "#            print key[1]\n",
    "#            print item\n",
    "#            if key[1] in tempn.keys():\n",
    "#                tempn[key[1]].append(key[0])\n",
    "#            else:\n",
    "#               tempn[key[1]] = [key[0]]\n",
    "            \n",
    "#    print tempn\n",
    "    \n",
    "    for key, item in c.iteritems():\n",
    "\n",
    "        if item < 1.0:\n",
    "            print key[0]\n",
    "            print key[1]\n",
    "            print item\n",
    "            if key[0] in tempn.keys():\n",
    "                tempn[key[0]].append(key[1])\n",
    "            else:\n",
    "                tempn[key[0]] = [key[1]]\n",
    "        else:\n",
    "            tempn[key[0]] = []#[0]\n",
    "        \n",
    "    return I,J,d,c,tempn\n",
    "\n"
   ]
  },
  {
   "cell_type": "code",
   "execution_count": 246,
   "metadata": {},
   "outputs": [],
   "source": [
    "# model --> algorithm : \n",
    "\n",
    "def flp(I,J,d,c,N):\n",
    "    \"\"\"flp -- model for the capacitated facility location problem\n",
    "    Parameters:\n",
    "        - I: set of customers\n",
    "        - J: set of facilities\n",
    "        - d[i]: demand for customer i\n",
    "        - M[j]: capacity of facility j\n",
    "        - f[j]: fixed cost for using a facility in point j\n",
    "        - N[i]: set of j s.t. site j covers demand pt i\n",
    "        - c[i,j]: unit cost of servicing demand point i from facility j (in our case, distance..\n",
    "        )\n",
    "    Returns a model, ready to be solved.\n",
    "    \"\"\"\n",
    "\n",
    "    model = Model(\"flp\")\n",
    "    x,y,e = {},{},{}\n",
    "    for i in I:\n",
    "        y[i] = model.addVar(vtype=\"B\", name=\"y(%s)\"%i) # binary var for customers\n",
    "    for j in J:\n",
    "        x[j] = model.addVar(vtype=\"B\", name=\"x(%s)\"%j) #binary var for facilities\n",
    "        #e[j] = model.addVar(vtype=\"B\", name=\"e(%s)\"%j)\n",
    "    #for j in J:\n",
    "    \n",
    "    print y\n",
    "    print x\n",
    "\n",
    "    #print len(N)\n",
    "    print len(y)\n",
    "    print len(I)\n",
    "    for keyi in I:\n",
    "        #print \"i \"+str(i)+ \"j  \"+ str(j)\n",
    "        #print \"con \"+ str(i) +\":  \"+ str(x[i])#+ \"  \"+ str(N[i-1])\n",
    "        #model.addCons(x[i]+quicksum(y[j] for j in N[i-1]) >= 1, \"Coverage Constraint(%s)\"%i)\n",
    "        #model.addCons(quicksum(x[j] for j in N[i]) >= y[i])\n",
    "        print quicksum(x[keyj] for keyj in N[keyi]) >= y[keyi]\n",
    "        #model.addCons(x[i]+quicksum(y[j] for j in N[i-1]) >= 1, \"Coverage Constraint(%s)\"%i)\n",
    "\n",
    "    #we'll set p=2 here\n",
    "    p=2\n",
    "    model.addCons(quicksum(x[keyj] for keyj in J) == p)\n",
    "    \n",
    "    for keyi in I:\n",
    "        #model.addCons(y[keyi]==0 or (y[keyi]==1))\n",
    "        model.addCons(0 <= (y[keyi] <= 1))\n",
    "    for keyj in J:\n",
    "        #model.addCons(x[keyj]==0 or (x[keyj]==1))\n",
    "        model.addCons(0 <= (x[keyj] <= 1))\n",
    "\n",
    "    \n",
    "   # model.addCons(quicksum(x[j] for j in x) == p, \"P-facility constraint(%s)\"%p)\n",
    "\n",
    "    #for i in I:\n",
    "        #model.addCons(y[i] >= 0, \"LB on Y_i (%s)\"%i)\n",
    "        #model.addCons(x[i,j] <= d[i]*y[j], \"Strong(%s,%s)\"%(i,j))\n",
    "\n",
    "    model.setObjective(\n",
    "        quicksum(y[keyi]*d[keyi] for keyi in I),\n",
    "        #quicksum(f[j]*y[j] for j in J) +\n",
    "        #quicksum(c[i,j]*x[i,j] for i in I for j in J),\n",
    "        \"maximize\")\n",
    "    model.data = x,y\n",
    "\n",
    "    return model\n"
   ]
  },
  {
   "cell_type": "code",
   "execution_count": 247,
   "metadata": {},
   "outputs": [
    {
     "name": "stdout",
     "output_type": "stream",
     "text": [
      "6\n",
      "3\n",
      "0.7\n",
      "6\n",
      "2\n",
      "0.8\n",
      "2\n",
      "2\n",
      "0.7\n",
      "4\n",
      "1\n",
      "0.5\n",
      "5\n",
      "3\n",
      "0.86\n",
      "{1: y(1), 2: y(2), 3: y(3), 4: y(4), 5: y(5), 6: y(6), 7: y(7)}\n",
      "{1: x(1), 2: x(2), 3: x(3)}\n",
      "7\n",
      "7\n",
      "ExprCons(Expr({Term(y(1)): 1.0}), None, 0.0)\n",
      "ExprCons(Expr({Term(y(2)): 1.0, Term(x(2)): -1.0}), None, 0.0)\n",
      "ExprCons(Expr({Term(y(3)): 1.0}), None, 0.0)\n",
      "ExprCons(Expr({Term(y(4)): 1.0, Term(x(1)): -1.0}), None, 0.0)\n",
      "ExprCons(Expr({Term(y(5)): 1.0, Term(x(3)): -1.0}), None, 0.0)\n",
      "ExprCons(Expr({Term(y(6)): 1.0, Term(x(3)): -1.0, Term(x(2)): -1.0}), None, 0.0)\n",
      "ExprCons(Expr({Term(y(7)): 1.0}), None, 0.0)\n",
      "('Optimal value:', 46.0)\n",
      "('Facilities at nodes:', [1, 2, 3, 4, 5, 6, 7])\n",
      "('Edges:', [2, 3])\n"
     ]
    },
    {
     "ename": "TypeError",
     "evalue": "'numpy.int64' object is not iterable",
     "output_type": "error",
     "traceback": [
      "\u001b[0;31m---------------------------------------------------------------------------\u001b[0m",
      "\u001b[0;31mTypeError\u001b[0m                                 Traceback (most recent call last)",
      "\u001b[0;32m<ipython-input-247-045c9eace2fc>\u001b[0m in \u001b[0;36m<module>\u001b[0;34m()\u001b[0m\n\u001b[1;32m     25\u001b[0m         \u001b[0mG\u001b[0m\u001b[0;34m.\u001b[0m\u001b[0madd_nodes_from\u001b[0m\u001b[0;34m(\u001b[0m\u001b[0mother\u001b[0m\u001b[0;34m)\u001b[0m\u001b[0;34m\u001b[0m\u001b[0m\n\u001b[1;32m     26\u001b[0m         \u001b[0mG\u001b[0m\u001b[0;34m.\u001b[0m\u001b[0madd_nodes_from\u001b[0m\u001b[0;34m(\u001b[0m\u001b[0mcustomers\u001b[0m\u001b[0;34m)\u001b[0m\u001b[0;34m\u001b[0m\u001b[0m\n\u001b[0;32m---> 27\u001b[0;31m         \u001b[0;32mfor\u001b[0m \u001b[0;34m(\u001b[0m\u001b[0mi\u001b[0m\u001b[0;34m,\u001b[0m\u001b[0mj\u001b[0m\u001b[0;34m)\u001b[0m \u001b[0;32min\u001b[0m \u001b[0medges\u001b[0m\u001b[0;34m:\u001b[0m\u001b[0;34m\u001b[0m\u001b[0m\n\u001b[0m\u001b[1;32m     28\u001b[0m             \u001b[0mG\u001b[0m\u001b[0;34m.\u001b[0m\u001b[0madd_edge\u001b[0m\u001b[0;34m(\u001b[0m\u001b[0;34m\"c%s\"\u001b[0m\u001b[0;34m%\u001b[0m\u001b[0mi\u001b[0m\u001b[0;34m,\u001b[0m\u001b[0mj\u001b[0m\u001b[0;34m)\u001b[0m\u001b[0;34m\u001b[0m\u001b[0m\n\u001b[1;32m     29\u001b[0m \u001b[0;34m\u001b[0m\u001b[0m\n",
      "\u001b[0;31mTypeError\u001b[0m: 'numpy.int64' object is not iterable"
     ]
    },
    {
     "data": {
      "text/plain": [
       "<Figure size 432x288 with 0 Axes>"
      ]
     },
     "metadata": {},
     "output_type": "display_data"
    }
   ],
   "source": [
    "if __name__ == \"__main__\":\n",
    "    I,J,d,c,N = make_data()\n",
    "    model = flp(I,J,d,c,N)\n",
    "    model.hideOutput(quiet=False) #verbose mode\n",
    "    model.optimize()\n",
    "\n",
    "    EPS = 1.e-6\n",
    "    x,y = model.data\n",
    "    edges = [j for j in x if model.getVal(x[j]) > EPS]\n",
    "    facilities = [i for i in y if model.getVal(y[i]) > EPS]\n",
    "\n",
    "    print(\"Optimal value:\", model.getObjVal())\n",
    "    print(\"Facilities at nodes:\", facilities)\n",
    "    print(\"Edges:\", edges)\n",
    "\n",
    "    try: # plot the result using networkx and matplotlib\n",
    "        import networkx as NX\n",
    "        import matplotlib.pyplot as P\n",
    "        P.clf()\n",
    "        G = NX.Graph()\n",
    "\n",
    "        other = [i for i in y if i not in facilities]\n",
    "        customers = [\"c%s\"%j for j in d]\n",
    "        G.add_nodes_from(facilities)\n",
    "        G.add_nodes_from(other)\n",
    "        G.add_nodes_from(customers)\n",
    "        for (i,j) in edges:\n",
    "            G.add_edge(\"c%s\"%i,j)\n",
    "\n",
    "        position = NX.drawing.layout.spring_layout(G)\n",
    "        NX.draw(G,position,node_color=\"y\",nodelist=facilities)\n",
    "        NX.draw(G,position,node_color=\"g\",nodelist=other)\n",
    "        NX.draw(G,position,node_color=\"b\",nodelist=customers)\n",
    "        P.show()\n",
    "    except ImportError:\n",
    "        print(\"install 'networkx' and 'matplotlib' for plotting\")"
   ]
  },
  {
   "cell_type": "code",
   "execution_count": 215,
   "metadata": {},
   "outputs": [
    {
     "name": "stdout",
     "output_type": "stream",
     "text": [
      "I \n",
      "[1, 2, 3, 4, 5, 6, 7]\n",
      "J \n",
      "[1 2 3]\n",
      "d \n",
      "{1: 12, 2: 5, 3: 6, 4: 3, 5: 9, 6: 1, 7: 10}\n",
      "N \n",
      "{1: [], 2: [2], 3: [], 4: [1], 5: [3], 6: [3, 2], 7: []}\n",
      "c \n",
      "{(1, 2): 6, (7, 3): 1.3, (3, 2): 3, (1, 3): 9, (3, 3): 4, (7, 1): 2.5, (5, 2): 8, (6, 1): 9, (3, 1): 6, (2, 1): 5, (6, 3): 0.7, (6, 2): 0.8, (2, 3): 7, (4, 3): 3, (2, 2): 0.7, (5, 1): 10, (4, 2): 5, (4, 1): 0.5, (1, 1): 4, (7, 2): 2.5, (5, 3): 0.86}\n",
      "{1: x(1), 2: x(2), 3: x(3)}\n",
      "{1: y(1), 2: y(2), 3: y(3), 4: y(4), 5: y(5), 6: y(6), 7: y(7)}\n"
     ]
    }
   ],
   "source": [
    "print \"I \"\n",
    "print I\n",
    "print \"J \"\n",
    "print J\n",
    "print \"d \"\n",
    "print d\n",
    "print \"N \"\n",
    "print N\n",
    "\n",
    "print \"c \"\n",
    "print c\n",
    "print x\n",
    "print y"
   ]
  },
  {
   "cell_type": "code",
   "execution_count": 185,
   "metadata": {},
   "outputs": [
    {
     "name": "stdout",
     "output_type": "stream",
     "text": [
      "2\n",
      "1\n",
      "3\n",
      "3\n",
      "2\n"
     ]
    }
   ],
   "source": [
    "for poop in I:\n",
    "    #print N[poop]\n",
    "    for goop in N[poop]:\n",
    "        print goop"
   ]
  },
  {
   "cell_type": "code",
   "execution_count": 195,
   "metadata": {},
   "outputs": [
    {
     "name": "stdout",
     "output_type": "stream",
     "text": [
      "{1: x(1), 2: x(2), 3: x(3), 4: x(4), 5: x(5), 6: x(6), 7: x(7)}\n",
      "{1: y(1), 2: y(2), 3: y(3)}\n",
      "1\n",
      "[]\n",
      "x(1)\n",
      "UHSKUHA\n",
      "SS 0\n",
      "2\n",
      "[2]\n",
      "x(2)\n",
      "UHSKUHA\n",
      "2\n",
      "y(2)\n",
      "SS Expr({Term(y(2)): 1.0, Term(): 0.0})\n",
      "3\n",
      "[]\n",
      "x(3)\n",
      "UHSKUHA\n",
      "SS 0\n",
      "4\n",
      "[1]\n",
      "x(4)\n",
      "UHSKUHA\n",
      "1\n",
      "y(1)\n",
      "SS Expr({Term(y(1)): 1.0, Term(): 0.0})\n",
      "5\n",
      "[3]\n",
      "x(5)\n",
      "UHSKUHA\n",
      "3\n",
      "y(3)\n",
      "SS Expr({Term(y(3)): 1.0, Term(): 0.0})\n",
      "6\n",
      "[3, 2]\n",
      "x(6)\n",
      "UHSKUHA\n",
      "3\n",
      "y(3)\n",
      "2\n",
      "y(2)\n",
      "SS Expr({Term(y(3)): 1.0, Term(): 0.0, Term(y(2)): 1.0})\n",
      "7\n",
      "[]\n",
      "x(7)\n",
      "UHSKUHA\n",
      "SS 0\n"
     ]
    }
   ],
   "source": [
    "print x\n",
    "print y\n",
    "\n",
    "tempx = y\n",
    "tempy = x\n",
    "for poop in I:\n",
    "    print poop\n",
    "    print N[poop]\n",
    "    print tempy[poop]\n",
    "    print \"UHSKUHA\"\n",
    "    ss = 0\n",
    "    for goop in N[poop]:\n",
    "        print goop\n",
    "        print tempx[goop]\n",
    "        ss+=tempx[goop]\n",
    "    print \"SS \"+str(ss)\n",
    "        \n",
    "    #print quicksum(x[keyj] for keyj in N[keyi]) #>= y[keyi]"
   ]
  },
  {
   "cell_type": "code",
   "execution_count": 190,
   "metadata": {},
   "outputs": [
    {
     "ename": "Exception",
     "evalue": "SCIP: method cannot be called at this time in solution process!",
     "output_type": "error",
     "traceback": [
      "\u001b[0;31m---------------------------------------------------------------------------\u001b[0m",
      "\u001b[0;31mException\u001b[0m                                 Traceback (most recent call last)",
      "\u001b[0;32m<ipython-input-190-45936b8d196d>\u001b[0m in \u001b[0;36m<module>\u001b[0;34m()\u001b[0m\n\u001b[1;32m      1\u001b[0m \u001b[0;32mfor\u001b[0m \u001b[0mi\u001b[0m \u001b[0;32min\u001b[0m \u001b[0mI\u001b[0m\u001b[0;34m:\u001b[0m\u001b[0;34m\u001b[0m\u001b[0m\n\u001b[0;32m----> 2\u001b[0;31m     \u001b[0my\u001b[0m\u001b[0;34m[\u001b[0m\u001b[0mi\u001b[0m\u001b[0;34m]\u001b[0m \u001b[0;34m=\u001b[0m \u001b[0mmodel\u001b[0m\u001b[0;34m.\u001b[0m\u001b[0maddVar\u001b[0m\u001b[0;34m(\u001b[0m\u001b[0mvtype\u001b[0m\u001b[0;34m=\u001b[0m\u001b[0;34m\"B\"\u001b[0m\u001b[0;34m,\u001b[0m \u001b[0mname\u001b[0m\u001b[0;34m=\u001b[0m\u001b[0;34m\"y(%s)\"\u001b[0m\u001b[0;34m%\u001b[0m\u001b[0mi\u001b[0m\u001b[0;34m)\u001b[0m \u001b[0;31m# binary var for customers\u001b[0m\u001b[0;34m\u001b[0m\u001b[0m\n\u001b[0m\u001b[1;32m      3\u001b[0m \u001b[0;32mfor\u001b[0m \u001b[0mj\u001b[0m \u001b[0;32min\u001b[0m \u001b[0mJ\u001b[0m\u001b[0;34m:\u001b[0m\u001b[0;34m\u001b[0m\u001b[0m\n\u001b[1;32m      4\u001b[0m     \u001b[0mx\u001b[0m\u001b[0;34m[\u001b[0m\u001b[0mj\u001b[0m\u001b[0;34m]\u001b[0m \u001b[0;34m=\u001b[0m \u001b[0mmodel\u001b[0m\u001b[0;34m.\u001b[0m\u001b[0maddVar\u001b[0m\u001b[0;34m(\u001b[0m\u001b[0mvtype\u001b[0m\u001b[0;34m=\u001b[0m\u001b[0;34m\"B\"\u001b[0m\u001b[0;34m,\u001b[0m \u001b[0mname\u001b[0m\u001b[0;34m=\u001b[0m\u001b[0;34m\"x(%s)\"\u001b[0m\u001b[0;34m%\u001b[0m\u001b[0mj\u001b[0m\u001b[0;34m)\u001b[0m \u001b[0;31m#binary var for facilities\u001b[0m\u001b[0;34m\u001b[0m\u001b[0m\n\u001b[1;32m      5\u001b[0m \u001b[0;34m\u001b[0m\u001b[0m\n",
      "\u001b[0;32msrc/pyscipopt/scip.pyx\u001b[0m in \u001b[0;36mpyscipopt.scip.Model.addVar\u001b[0;34m()\u001b[0m\n",
      "\u001b[0;32msrc/pyscipopt/scip.pyx\u001b[0m in \u001b[0;36mpyscipopt.scip.PY_SCIP_CALL\u001b[0;34m()\u001b[0m\n",
      "\u001b[0;31mException\u001b[0m: SCIP: method cannot be called at this time in solution process!"
     ]
    }
   ],
   "source": [
    "for i in I:\n",
    "    y[i] = model.addVar(vtype=\"B\", name=\"y(%s)\"%i) # binary var for customers\n",
    "for j in J:\n",
    "    x[j] = model.addVar(vtype=\"B\", name=\"x(%s)\"%j) #binary var for facilities\n",
    "        "
   ]
  },
  {
   "cell_type": "code",
   "execution_count": 14,
   "metadata": {},
   "outputs": [
    {
     "name": "stdout",
     "output_type": "stream",
     "text": [
      "Coverage Constraint 1\n"
     ]
    },
    {
     "ename": "KeyError",
     "evalue": "3",
     "output_type": "error",
     "traceback": [
      "\u001b[0;31m---------------------------------------------------------------------------\u001b[0m",
      "\u001b[0;31mKeyError\u001b[0m                                  Traceback (most recent call last)",
      "\u001b[0;32m<ipython-input-14-1d884f97641b>\u001b[0m in \u001b[0;36m<module>\u001b[0;34m()\u001b[0m\n\u001b[1;32m      1\u001b[0m \u001b[0;32mfor\u001b[0m \u001b[0mi\u001b[0m \u001b[0;32min\u001b[0m \u001b[0mI\u001b[0m\u001b[0;34m:\u001b[0m\u001b[0;34m\u001b[0m\u001b[0m\n\u001b[1;32m      2\u001b[0m     \u001b[0;32mprint\u001b[0m \u001b[0;34m\"Coverage Constraint \"\u001b[0m\u001b[0;34m+\u001b[0m\u001b[0mstr\u001b[0m\u001b[0;34m(\u001b[0m\u001b[0mi\u001b[0m\u001b[0;34m)\u001b[0m\u001b[0;34m\u001b[0m\u001b[0m\n\u001b[0;32m----> 3\u001b[0;31m     \u001b[0;32mprint\u001b[0m \u001b[0mstr\u001b[0m\u001b[0;34m(\u001b[0m\u001b[0mx\u001b[0m\u001b[0;34m[\u001b[0m\u001b[0mi\u001b[0m\u001b[0;34m]\u001b[0m\u001b[0;34m)\u001b[0m\u001b[0;34m+\u001b[0m\u001b[0mstr\u001b[0m\u001b[0;34m(\u001b[0m\u001b[0mquicksum\u001b[0m\u001b[0;34m(\u001b[0m\u001b[0my\u001b[0m\u001b[0;34m[\u001b[0m\u001b[0mj\u001b[0m\u001b[0;34m]\u001b[0m \u001b[0;32mfor\u001b[0m \u001b[0mj\u001b[0m \u001b[0;32min\u001b[0m \u001b[0mN\u001b[0m\u001b[0;34m[\u001b[0m\u001b[0mi\u001b[0m\u001b[0;34m]\u001b[0m\u001b[0;34m)\u001b[0m\u001b[0;34m)\u001b[0m\u001b[0;34m+\u001b[0m \u001b[0;34m\">= 1\"\u001b[0m\u001b[0;34m\u001b[0m\u001b[0m\n\u001b[0m",
      "\u001b[0;32msrc/pyscipopt/expr.pxi\u001b[0m in \u001b[0;36mpyscipopt.scip.quicksum\u001b[0;34m()\u001b[0m\n",
      "\u001b[0;32m<ipython-input-14-1d884f97641b>\u001b[0m in \u001b[0;36m<genexpr>\u001b[0;34m((j,))\u001b[0m\n\u001b[1;32m      1\u001b[0m \u001b[0;32mfor\u001b[0m \u001b[0mi\u001b[0m \u001b[0;32min\u001b[0m \u001b[0mI\u001b[0m\u001b[0;34m:\u001b[0m\u001b[0;34m\u001b[0m\u001b[0m\n\u001b[1;32m      2\u001b[0m     \u001b[0;32mprint\u001b[0m \u001b[0;34m\"Coverage Constraint \"\u001b[0m\u001b[0;34m+\u001b[0m\u001b[0mstr\u001b[0m\u001b[0;34m(\u001b[0m\u001b[0mi\u001b[0m\u001b[0;34m)\u001b[0m\u001b[0;34m\u001b[0m\u001b[0m\n\u001b[0;32m----> 3\u001b[0;31m     \u001b[0;32mprint\u001b[0m \u001b[0mstr\u001b[0m\u001b[0;34m(\u001b[0m\u001b[0mx\u001b[0m\u001b[0;34m[\u001b[0m\u001b[0mi\u001b[0m\u001b[0;34m]\u001b[0m\u001b[0;34m)\u001b[0m\u001b[0;34m+\u001b[0m\u001b[0mstr\u001b[0m\u001b[0;34m(\u001b[0m\u001b[0mquicksum\u001b[0m\u001b[0;34m(\u001b[0m\u001b[0my\u001b[0m\u001b[0;34m[\u001b[0m\u001b[0mj\u001b[0m\u001b[0;34m]\u001b[0m \u001b[0;32mfor\u001b[0m \u001b[0mj\u001b[0m \u001b[0;32min\u001b[0m \u001b[0mN\u001b[0m\u001b[0;34m[\u001b[0m\u001b[0mi\u001b[0m\u001b[0;34m]\u001b[0m\u001b[0;34m)\u001b[0m\u001b[0;34m)\u001b[0m\u001b[0;34m+\u001b[0m \u001b[0;34m\">= 1\"\u001b[0m\u001b[0;34m\u001b[0m\u001b[0m\n\u001b[0m",
      "\u001b[0;31mKeyError\u001b[0m: 3"
     ]
    }
   ],
   "source": [
    "for i in I:\n",
    "    print \"Coverage Constraint \"+str(i)\n",
    "    print str(x[i])+str(quicksum(y[j] for j in N[i]))+ \">= 1\"\n"
   ]
  },
  {
   "cell_type": "code",
   "execution_count": 142,
   "metadata": {},
   "outputs": [
    {
     "name": "stdout",
     "output_type": "stream",
     "text": [
      "{1: x(1), 2: x(2), 3: x(3), 4: x(4), 5: x(5), 6: x(6), 7: x(7)}\n"
     ]
    }
   ],
   "source": [
    "print x"
   ]
  },
  {
   "cell_type": "code",
   "execution_count": null,
   "metadata": {},
   "outputs": [],
   "source": []
  },
  {
   "cell_type": "code",
   "execution_count": 9,
   "metadata": {},
   "outputs": [],
   "source": [
    "from math import sqrt"
   ]
  },
  {
   "cell_type": "markdown",
   "metadata": {},
   "source": [
    "# Original Code"
   ]
  },
  {
   "cell_type": "markdown",
   "metadata": {},
   "source": [
    "### lets try to alter this one piece at a time"
   ]
  },
  {
   "cell_type": "markdown",
   "metadata": {},
   "source": [
    "###### Note:\n",
    "Note that the x[i,j] var is CONTINOUS b/c its not explicitly restricted to being 0,1; i.e. it is a linear relaxation (and then we provide UB/ LBs for it)"
   ]
  },
  {
   "cell_type": "code",
   "execution_count": 339,
   "metadata": {},
   "outputs": [],
   "source": [
    "\n",
    "def flpo(I,J,d,M,c):\n",
    "    \"\"\"flp -- model for the capacitated facility location problem\n",
    "    Parameters:\n",
    "        - I: set of customers\n",
    "        - J: set of facilities\n",
    "        - d[i]: demand for customer i\n",
    "        - M[j]: capacity of facility j\n",
    "        - c[i,j]: unit cost of servicing demand point i from facility j\n",
    "    Returns a model, ready to be solved.\n",
    "    \"\"\"\n",
    "\n",
    "    model = Model(\"flp\")\n",
    "\n",
    "    x,y = {},{}\n",
    "    for j in J: # FACILITIES\n",
    "        x[j] = model.addVar(vtype=\"B\", name=\"y(%s)\"%j) \n",
    "    for i in I: # CUSTOMERS\n",
    "        y[i] = model.addVar(vtype=\"C\", name=\"x(%s)\"%i)\n",
    "\n",
    "    #for i in I:\n",
    "    #    model.addCons(quicksum(x[i,j] for j in J) == d[i], \"Demand(%s)\"%i)\n",
    "\n",
    "    #for j in M: # this is what keeps the uncapacitated problem from being too hard to solve (i.e. it is the strong formulation)\n",
    "    #    model.addCons(quicksum(x[i,j] for i in I) <= M[j]*y[j], \"Capacity(%s)\"%i)\n",
    "\n",
    "    #for (i,j) in x:\n",
    "    #    model.addCons(x[i,j] <= d[i]*y[j], \"Strong(%s,%s)\"%(i,j))\n",
    "\n",
    "    N= {1:[], 2:[2], 3:[2], 4:[1,3], 5:[3], 6:[2,3], 7:[1,2,3]}\n",
    "    \n",
    "    #ADDED\n",
    "    for i in I:\n",
    "        model.addCons(quicksum(x[j] for j in N[i])+y[i] >= 1)\n",
    "    \n",
    "    for i in I:\n",
    "        model.addCons(y[i] >= 0)\n",
    "    \n",
    "    P = 1\n",
    "    model.addCons(quicksum(x[j] for j in J) == P)\n",
    "    \n",
    "    model.setObjective(\n",
    "        #quicksum(f[j]*y[j] for j in J) +\n",
    "        #quicksum(c[i,j]*x[i,j] for i in I for j in J),\n",
    "        quicksum(y[i]*d[i] for i in I),\n",
    "        \"minimize\")\n",
    "    model.data = x,y\n",
    "\n",
    "    return model\n",
    "\n"
   ]
  },
  {
   "cell_type": "code",
   "execution_count": 307,
   "metadata": {},
   "outputs": [],
   "source": [
    "    I,d = multidict({1:12, 2:5, 3:6, 4:3, 5:9, 6:1, 7:10})   # demand pt IDS, demand\n",
    "    J = arange(1,3+1,1)                        #potential facility site ID\n",
    "   # N = multidict({1:[1,4], 2:[2,6], 3:[5,7]}) #in practice this would be generated according to distance\n",
    "    c = {(1,1):4,  (1,2):6,  (1,3):9,    # distance from demand pt i to site j\n",
    "         (2,1):5,  (2,2):0.7,  (2,3):7,\n",
    "         (3,1):6,  (3,2):3,  (3,3):4,\n",
    "         (4,1):0.5,  (4,2):5,  (4,3):3,\n",
    "         (5,1):10, (5,2):8,  (5,3):0.86,\n",
    "         (6,1):9, (6,2):0.8, (6,3):0.7,\n",
    "         (7,1):2.5, (7,2):2.5, (7,3):1.3,\n",
    "         }"
   ]
  },
  {
   "cell_type": "code",
   "execution_count": 340,
   "metadata": {},
   "outputs": [],
   "source": [
    "def make_datao():\n",
    "    I,d = multidict({1:12, 2:5, 3:6, 4:3, 5:9, 6:1, 7:10})            # demand\n",
    "    J,M = multidict({1:[500], 2:[500], 3:[500]}) # capacity, fixed costs\n",
    "    c = {(1,1):4,  (1,2):6,  (1,3):9,    # distance cost to get from demand point i to \n",
    "         (2,1):5,  (2,2):0.7,  (2,3):7,   # potl facility site j (i,j):distance\n",
    "         (3,1):6,  (3,2):3,  (3,3):4,\n",
    "         (4,1):0.5,  (4,2):5,  (4,3):3,\n",
    "         (5,1):10, (5,2):8,  (5,3):0.86,\n",
    "         (6,1):9,  (6,2):0.8,  (6,3):0.7,\n",
    "         (7,1):2.5,  (7,2):2.5,  (7,3):1.3,\n",
    "         }\n",
    "    return I,J,d,M,c\n"
   ]
  },
  {
   "cell_type": "code",
   "execution_count": 365,
   "metadata": {},
   "outputs": [
    {
     "name": "stdout",
     "output_type": "stream",
     "text": [
      "('Optimal value:', 23.0)\n",
      "('Facilities at nodes:', [3])\n",
      "('Customers Covered:', [4, 5, 6, 7])\n",
      "3\n",
      "4\n"
     ]
    },
    {
     "data": {
      "image/png": "[encoded data removed]",
      "text/plain": [
       "<Figure size 432x288 with 1 Axes>"
      ]
     },
     "metadata": {},
     "output_type": "display_data"
    }
   ],
   "source": [
    "if __name__ == \"__main__\":\n",
    "    I,J,d,M,c = make_datao()\n",
    "    model = flpo(I,J,d,M,c)\n",
    "    model.hideOutput(quiet=False)\n",
    "    model.optimize()\n",
    "\n",
    "    EPS = 1.e-6\n",
    "    x,y = model.data\n",
    "    uncovered_customers = [i for i in y if model.getVal(y[i]) > EPS]\n",
    "    # ADDED:\n",
    "    # remember, we need to switch this b/c y==1 means its NOT covered in our model\n",
    "    covered_customers = [i for i in y if i not in uncovered_customers]\n",
    "    facilities = [j for j in x if model.getVal(x[j]) > EPS]\n",
    "\n",
    "    print(\"Optimal value:\", model.getObjVal())\n",
    "    print(\"Facilities at nodes:\", facilities)\n",
    "    print(\"Customers Covered:\", covered_customers)\n",
    "\n",
    "    # ADDED now alter this so that it connects customers to who they are covered by\n",
    "    try: # plot the result using networkx and matplotlib\n",
    "        import networkx as NX\n",
    "        import matplotlib.pyplot as P\n",
    "        P.clf()\n",
    "        G = NX.Graph()\n",
    "        \n",
    "        uncovered_customers = [i for i in y if i not in covered_customers]\n",
    "        other = [j for j in x if j not in facilities]\n",
    "        customers = [\"c%s\"%i for i in d]\n",
    "        G.add_nodes_from(facilities)\n",
    "        G.add_nodes_from(other)\n",
    "        G.add_nodes_from(customers)\n",
    "        for i in N:\n",
    "            to_nodes = N[i]\n",
    "            for n in to_nodes:\n",
    "                if n in facilities:\n",
    "                    G.add_edge(\"c%s\"%i,n)\n",
    "            \n",
    "        print len(uncovered_customers)\n",
    "        print len(covered_customers)\n",
    "        \n",
    "        position = NX.drawing.layout.spring_layout(G)\n",
    "        NX.draw(G,position,node_color=\"y\",nodelist=facilities, with_labels=True)\n",
    "        NX.draw(G,position,node_color=\"g\",nodelist=other, with_labels=True)\n",
    "        NX.draw(G,position,node_color=\"r\",nodelist=customers, with_labels=True)\n",
    "        P.show()\n",
    "    except ImportError:\n",
    "        print(\"install 'networkx' and 'matplotlib' for plotting\")"
   ]
  },
  {
   "cell_type": "code",
   "execution_count": 362,
   "metadata": {},
   "outputs": [
    {
     "name": "stdout",
     "output_type": "stream",
     "text": [
      "[1, 2, 3, 'c3', 'c2', 'c1', 'c7', 'c6', 'c5', 'c4']\n",
      "[(1, 'c7'), (1, 'c4'), (2, 'c3'), (2, 'c2'), (2, 'c7'), (2, 'c6'), (3, 'c7'), (3, 'c6'), (3, 'c5'), (3, 'c4')]\n"
     ]
    }
   ],
   "source": [
    "print G.nodes\n",
    "print G.edges"
   ]
  },
  {
   "cell_type": "code",
   "execution_count": 337,
   "metadata": {},
   "outputs": [
    {
     "name": "stdout",
     "output_type": "stream",
     "text": [
      "Expr({Term(): 0.0, Term(x(1)): 1.0})\n",
      "Expr({Term(): 0.0, Term(y(2)): 1.0, Term(x(2)): 1.0})\n",
      "Expr({Term(): 0.0, Term(y(2)): 1.0, Term(x(3)): 1.0})\n",
      "Expr({Term(): 0.0, Term(y(1)): 1.0, Term(y(3)): 1.0, Term(x(4)): 1.0})\n",
      "Expr({Term(): 0.0, Term(y(3)): 1.0, Term(x(5)): 1.0})\n",
      "Expr({Term(): 0.0, Term(y(2)): 1.0, Term(y(3)): 1.0, Term(x(6)): 1.0})\n",
      "Expr({Term(): 0.0, Term(y(1)): 1.0, Term(y(3)): 1.0, Term(y(2)): 1.0, Term(x(7)): 1.0})\n"
     ]
    }
   ],
   "source": [
    "N= {1:[], 2:[2], 3:[2], 4:[1,3], 5:[3], 6:[2,3], 7:[1,2,3]}\n",
    "\n",
    "for i in I:\n",
    "        print quicksum(x[j] for j in N[i])+y[i]\n",
    "    "
   ]
  },
  {
   "cell_type": "code",
   "execution_count": 332,
   "metadata": {},
   "outputs": [
    {
     "data": {
      "text/plain": [
       "[1, 2, 3]"
      ]
     },
     "execution_count": 332,
     "metadata": {},
     "output_type": "execute_result"
    }
   ],
   "source": [
    "N[6]"
   ]
  },
  {
   "cell_type": "code",
   "execution_count": 338,
   "metadata": {},
   "outputs": [
    {
     "name": "stdout",
     "output_type": "stream",
     "text": [
      "1\n",
      "[]\n",
      "2\n",
      "[2]\n",
      "3\n",
      "[2]\n",
      "4\n",
      "[1, 3]\n",
      "5\n",
      "[3]\n",
      "6\n",
      "[2, 3]\n",
      "7\n",
      "[1, 2, 3]\n"
     ]
    }
   ],
   "source": [
    "for i in I:\n",
    "    print i\n",
    "    print N[i]"
   ]
  },
  {
   "cell_type": "code",
   "execution_count": 334,
   "metadata": {},
   "outputs": [
    {
     "data": {
      "text/plain": [
       "x(7)"
      ]
     },
     "execution_count": 334,
     "metadata": {},
     "output_type": "execute_result"
    }
   ],
   "source": [
    "y[7]"
   ]
  },
  {
   "cell_type": "code",
   "execution_count": 353,
   "metadata": {},
   "outputs": [
    {
     "name": "stdout",
     "output_type": "stream",
     "text": [
      "['c1', 'c2', 'c3', 'c4', 'c5', 'c6', 'c7']\n"
     ]
    }
   ],
   "source": [
    "print [\"c%s\"%i for i in d]"
   ]
  },
  {
   "cell_type": "code",
   "execution_count": null,
   "metadata": {},
   "outputs": [],
   "source": []
  }
 ],
 "metadata": {
  "kernelspec": {
   "display_name": "mclpkernel",
   "language": "python",
   "name": "mclpkernel"
  },
  "language_info": {
   "codemirror_mode": {
    "name": "ipython",
    "version": 2
   },
   "file_extension": ".py",
   "mimetype": "text/x-python",
   "name": "python",
   "nbconvert_exporter": "python",
   "pygments_lexer": "ipython2",
   "version": "2.7.14"
  }
 },
 "nbformat": 4,
 "nbformat_minor": 2
}
