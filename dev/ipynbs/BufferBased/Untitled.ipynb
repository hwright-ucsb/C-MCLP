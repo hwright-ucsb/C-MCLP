{
 "cells": [
  {
   "cell_type": "markdown",
   "metadata": {},
   "source": [
    "###### Scraps"
   ]
  },
  {
   "cell_type": "markdown",
   "metadata": {},
   "source": [
    "$$ a_i = \\text{demand/weight/population at point } x_i $$"
   ]
  },
  {
   "cell_type": "markdown",
   "metadata": {},
   "source": [
    "$$ p = \\text{number of facilities to place}$$"
   ]
  },
  {
   "cell_type": "code",
   "execution_count": null,
   "metadata": {},
   "outputs": [],
   "source": []
  },
  {
   "cell_type": "code",
   "execution_count": null,
   "metadata": {},
   "outputs": [],
   "source": []
  },
  {
   "cell_type": "markdown",
   "metadata": {},
   "source": [
    "### Sets + Vars"
   ]
  },
  {
   "cell_type": "markdown",
   "metadata": {},
   "source": [
    "$$\n",
    "I = \\text{set of demand sites} \\\\\n",
    "    J = \\text{set of facility sites} \\\\\n",
    "    S_i = \\text{distance beyond which demand site }i\\text{ is considered uncovered} \\\\\n",
    "    d_{ij} = \\text{distance from demand site }i\\text{ to facility site }j \\\\\n",
    " a_i = \\text{demand/weight/population at point } x_i  \\\\\n",
    " p = \\text{number of facilities to place}\n",
    "$$\n",
    "\n",
    " "
   ]
  },
  {
   "cell_type": "markdown",
   "metadata": {},
   "source": [
    "- $N_i$ is the covering set of $i$\n",
    "- the set of $j$ that cover demand point $i$\n",
    "$$ N_i = \\{ \\, j \\in J \\, | \\, d_{ij} \\leq S_i \\} $$"
   ]
  },
  {
   "cell_type": "markdown",
   "metadata": {},
   "source": [
    "### Binary Varables"
   ]
  },
  {
   "cell_type": "markdown",
   "metadata": {},
   "source": [
    " \\begin{equation}\n",
    "  y_i=\\left\\{\n",
    "  \\begin{array}{@{}ll@{}}\n",
    "    1 & \\text{if demand site } i \\text{ is NOT covered}\\\\\n",
    "    0 & \\text{otherwise}\n",
    "  \\end{array}\\right.\n",
    "\\end{equation} \n"
   ]
  },
  {
   "cell_type": "markdown",
   "metadata": {},
   "source": [
    " \\begin{equation}\n",
    "   x_j=\\left\\{\n",
    "   \\begin{array}{@{}11@{}}\n",
    "     1 & \\text{if facility is placed at site } j \\\\\n",
    "     0 & \\text{if not}\n",
    "   \\end{array}\\right.\n",
    " \\end{equation}"
   ]
  },
  {
   "cell_type": "markdown",
   "metadata": {},
   "source": [
    "- number of facilities being added to the system as defined by $x_j$"
   ]
  },
  {
   "cell_type": "markdown",
   "metadata": {},
   "source": [
    " \\begin{equation}\n",
    "  e_j=\\left\\{\n",
    "  \\begin{array}{@{}ll@{}}\n",
    "    1 & \\text{if facility is NOT placed at site }j\\\\\n",
    "    0 & \\text{otherwise}\n",
    "  \\end{array}\\right.\n",
    "\\end{equation} \n"
   ]
  },
  {
   "cell_type": "markdown",
   "metadata": {},
   "source": [
    "$$ e_j = {\\, j \\in J \\,| \\, "
   ]
  },
  {
   "cell_type": "code",
   "execution_count": null,
   "metadata": {},
   "outputs": [],
   "source": []
  },
  {
   "cell_type": "code",
   "execution_count": null,
   "metadata": {},
   "outputs": [],
   "source": []
  },
  {
   "cell_type": "code",
   "execution_count": null,
   "metadata": {},
   "outputs": [],
   "source": []
  },
  {
   "cell_type": "markdown",
   "metadata": {},
   "source": [
    "$$\\sum_{i\\in I} a_i = S $$"
   ]
  },
  {
   "cell_type": "markdown",
   "metadata": {},
   "source": [
    "$$\\sum_{j=0}^{J} x_j \\leq  p $$"
   ]
  },
  {
   "cell_type": "markdown",
   "metadata": {},
   "source": [
    "- minimize the amount of demand that is *not* covered (because $ y_i = 0 $ when it *is* covered)"
   ]
  },
  {
   "cell_type": "markdown",
   "metadata": {},
   "source": [
    "$$\\text{(o1)}\\;\\;\\;\\;  \\min \\sum_{i\\in I} y_i \\, a_i $$"
   ]
  },
  {
   "cell_type": "markdown",
   "metadata": {},
   "source": [
    "- minimize whatever you need to add to the cover to cover everything"
   ]
  },
  {
   "cell_type": "markdown",
   "metadata": {},
   "source": [
    "$$\\text{(o2)}\\;\\;\\;\\; \\min\\sum_{j\\in J} e_j $$"
   ]
  },
  {
   "cell_type": "markdown",
   "metadata": {},
   "source": [
    "### Constraints"
   ]
  },
  {
   "cell_type": "markdown",
   "metadata": {},
   "source": [
    " $$\\text{(c1)}\\;\\;\\;\\; \\sum_{j\\in N_i} x_j + y_i \\geq 1 \\text{, } \\; \\forall i \\in I $$"
   ]
  },
  {
   "cell_type": "markdown",
   "metadata": {},
   "source": [
    "** don't have to upper bound $y_i$ if we write it tighter this way; allows us (in combination with the min dual version of the problem, instead of maximizing coverage as the objective) to go without specifying bounds on the binary variables. If we used the max cover version, the ineq. above would be $\\geq$ and then upper bounds would have to be specified.**"
   ]
  },
  {
   "cell_type": "markdown",
   "metadata": {},
   "source": [
    "$$\\text{(c2)}\\;\\;\\;\\; \\sum_{j\\in J} x_j = P $$ "
   ]
  },
  {
   "cell_type": "markdown",
   "metadata": {},
   "source": [
    "** this is the P facility constraint. (o2) with (c1) and (c2) is basically the max cover problem **"
   ]
  },
  {
   "cell_type": "markdown",
   "metadata": {},
   "source": [
    "$$\\text{(c3)}\\;\\;\\;\\; \\sum_{j\\in N_i} x_j + e_j \\geq 1 \\text{, } \\; \\forall i \\in I $$"
   ]
  },
  {
   "cell_type": "markdown",
   "metadata": {},
   "source": [
    " \\begin{equation}\n",
    "  \\text{(c4)}\\;\\;\\;\\; x_j=\\left\\{\n",
    "  \\begin{array}{@{}ll@{}}\n",
    "    0 & \\\\\n",
    "    1 &\n",
    "  \\end{array}\\right.\n",
    "\\end{equation} "
   ]
  },
  {
   "cell_type": "markdown",
   "metadata": {},
   "source": [
    " \\begin{equation}\n",
    "  \\text{(c5)}\\;\\;\\;\\; e_j=\\left\\{\n",
    "  \\begin{array}{@{}ll@{}}\n",
    "    0 & \\\\\n",
    "    1 &\n",
    "  \\end{array}\\right.\n",
    "\\end{equation} "
   ]
  },
  {
   "cell_type": "markdown",
   "metadata": {},
   "source": [
    " $$\\text{(c6)}\\;\\;\\;\\; y_i \\geq 0$$\n",
    "\n",
    " "
   ]
  },
  {
   "cell_type": "markdown",
   "metadata": {},
   "source": [
    "#### Unspecified,  but Implied"
   ]
  },
  {
   "cell_type": "markdown",
   "metadata": {},
   "source": [
    "$$ x_j + e_j \\text{ covers completely } \\forall i \\in I $$"
   ]
  },
  {
   "cell_type": "code",
   "execution_count": 3,
   "metadata": {},
   "outputs": [],
   "source": [
    "from pyscipopt import Model"
   ]
  },
  {
   "cell_type": "code",
   "execution_count": null,
   "metadata": {},
   "outputs": [],
   "source": []
  }
 ],
 "metadata": {
  "kernelspec": {
   "display_name": "mclpkernel",
   "language": "python",
   "name": "mclpkernel"
  },
  "language_info": {
   "codemirror_mode": {
    "name": "ipython",
    "version": 2
   },
   "file_extension": ".py",
   "mimetype": "text/x-python",
   "name": "python",
   "nbconvert_exporter": "python",
   "pygments_lexer": "ipython2",
   "version": "2.7.14"
  }
 },
 "nbformat": 4,
 "nbformat_minor": 2
}
